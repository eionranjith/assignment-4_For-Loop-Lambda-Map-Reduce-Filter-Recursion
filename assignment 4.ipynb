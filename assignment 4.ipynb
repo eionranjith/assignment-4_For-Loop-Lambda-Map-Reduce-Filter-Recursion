{
 "cells": [
  {
   "cell_type": "code",
   "execution_count": 1,
   "id": "dd8b81c8-9d6b-4493-9dcd-a39000cf42ac",
   "metadata": {},
   "outputs": [
    {
     "name": "stdout",
     "output_type": "stream",
     "text": [
      "1\n",
      "2\n",
      "3\n",
      "4\n",
      "5\n",
      "6\n",
      "7\n",
      "8\n",
      "9\n",
      "10\n"
     ]
    }
   ],
   "source": [
    "#For Loop :-\n",
    "\n",
    "#1)Write a Python program to print numbers from 1 to 10 using a for loop.?\n",
    "for i in range(1,11):\n",
    "    print(i)"
   ]
  },
  {
   "cell_type": "code",
   "execution_count": 2,
   "id": "ecb25be3-1dc7-42c0-9848-aa3d1eb46c1e",
   "metadata": {},
   "outputs": [],
   "source": [
    "#2.)Explain the difference between a for loop and a while loop in Python.?\n",
    "#key differences:\n",
    "#for loop is ideal when you know the number of iterations or when iterating through a collection\n",
    "#or sequence.\n",
    "#while loop is suitable when you want to repeat an action untill a specific condition becomes False.\n",
    "#for loop is generally used for iterating over sequences,while'while' loop is used when the number of iteration is unknown or dfependes on a condition\n"
   ]
  },
  {
   "cell_type": "code",
   "execution_count": 8,
   "id": "10a9ad56-731b-4c48-803a-12178db4b29f",
   "metadata": {},
   "outputs": [
    {
     "name": "stdout",
     "output_type": "stream",
     "text": [
      "the sum of all numbers 1 to 101: 1\n",
      "the sum of all numbers 1 to 101: 2\n",
      "the sum of all numbers 1 to 101: 3\n",
      "the sum of all numbers 1 to 101: 4\n",
      "the sum of all numbers 1 to 101: 5\n",
      "the sum of all numbers 1 to 101: 6\n",
      "the sum of all numbers 1 to 101: 7\n",
      "the sum of all numbers 1 to 101: 8\n",
      "the sum of all numbers 1 to 101: 9\n",
      "the sum of all numbers 1 to 101: 10\n",
      "the sum of all numbers 1 to 101: 11\n",
      "the sum of all numbers 1 to 101: 12\n",
      "the sum of all numbers 1 to 101: 13\n",
      "the sum of all numbers 1 to 101: 14\n",
      "the sum of all numbers 1 to 101: 15\n",
      "the sum of all numbers 1 to 101: 16\n",
      "the sum of all numbers 1 to 101: 17\n",
      "the sum of all numbers 1 to 101: 18\n",
      "the sum of all numbers 1 to 101: 19\n",
      "the sum of all numbers 1 to 101: 20\n",
      "the sum of all numbers 1 to 101: 21\n",
      "the sum of all numbers 1 to 101: 22\n",
      "the sum of all numbers 1 to 101: 23\n",
      "the sum of all numbers 1 to 101: 24\n",
      "the sum of all numbers 1 to 101: 25\n",
      "the sum of all numbers 1 to 101: 26\n",
      "the sum of all numbers 1 to 101: 27\n",
      "the sum of all numbers 1 to 101: 28\n",
      "the sum of all numbers 1 to 101: 29\n",
      "the sum of all numbers 1 to 101: 30\n",
      "the sum of all numbers 1 to 101: 31\n",
      "the sum of all numbers 1 to 101: 32\n",
      "the sum of all numbers 1 to 101: 33\n",
      "the sum of all numbers 1 to 101: 34\n",
      "the sum of all numbers 1 to 101: 35\n",
      "the sum of all numbers 1 to 101: 36\n",
      "the sum of all numbers 1 to 101: 37\n",
      "the sum of all numbers 1 to 101: 38\n",
      "the sum of all numbers 1 to 101: 39\n",
      "the sum of all numbers 1 to 101: 40\n",
      "the sum of all numbers 1 to 101: 41\n",
      "the sum of all numbers 1 to 101: 42\n",
      "the sum of all numbers 1 to 101: 43\n",
      "the sum of all numbers 1 to 101: 44\n",
      "the sum of all numbers 1 to 101: 45\n",
      "the sum of all numbers 1 to 101: 46\n",
      "the sum of all numbers 1 to 101: 47\n",
      "the sum of all numbers 1 to 101: 48\n",
      "the sum of all numbers 1 to 101: 49\n",
      "the sum of all numbers 1 to 101: 50\n",
      "the sum of all numbers 1 to 101: 51\n",
      "the sum of all numbers 1 to 101: 52\n",
      "the sum of all numbers 1 to 101: 53\n",
      "the sum of all numbers 1 to 101: 54\n",
      "the sum of all numbers 1 to 101: 55\n",
      "the sum of all numbers 1 to 101: 56\n",
      "the sum of all numbers 1 to 101: 57\n",
      "the sum of all numbers 1 to 101: 58\n",
      "the sum of all numbers 1 to 101: 59\n",
      "the sum of all numbers 1 to 101: 60\n",
      "the sum of all numbers 1 to 101: 61\n",
      "the sum of all numbers 1 to 101: 62\n",
      "the sum of all numbers 1 to 101: 63\n",
      "the sum of all numbers 1 to 101: 64\n",
      "the sum of all numbers 1 to 101: 65\n",
      "the sum of all numbers 1 to 101: 66\n",
      "the sum of all numbers 1 to 101: 67\n",
      "the sum of all numbers 1 to 101: 68\n",
      "the sum of all numbers 1 to 101: 69\n",
      "the sum of all numbers 1 to 101: 70\n",
      "the sum of all numbers 1 to 101: 71\n",
      "the sum of all numbers 1 to 101: 72\n",
      "the sum of all numbers 1 to 101: 73\n",
      "the sum of all numbers 1 to 101: 74\n",
      "the sum of all numbers 1 to 101: 75\n",
      "the sum of all numbers 1 to 101: 76\n",
      "the sum of all numbers 1 to 101: 77\n",
      "the sum of all numbers 1 to 101: 78\n",
      "the sum of all numbers 1 to 101: 79\n",
      "the sum of all numbers 1 to 101: 80\n",
      "the sum of all numbers 1 to 101: 81\n",
      "the sum of all numbers 1 to 101: 82\n",
      "the sum of all numbers 1 to 101: 83\n",
      "the sum of all numbers 1 to 101: 84\n",
      "the sum of all numbers 1 to 101: 85\n",
      "the sum of all numbers 1 to 101: 86\n",
      "the sum of all numbers 1 to 101: 87\n",
      "the sum of all numbers 1 to 101: 88\n",
      "the sum of all numbers 1 to 101: 89\n",
      "the sum of all numbers 1 to 101: 90\n",
      "the sum of all numbers 1 to 101: 91\n",
      "the sum of all numbers 1 to 101: 92\n",
      "the sum of all numbers 1 to 101: 93\n",
      "the sum of all numbers 1 to 101: 94\n",
      "the sum of all numbers 1 to 101: 95\n",
      "the sum of all numbers 1 to 101: 96\n",
      "the sum of all numbers 1 to 101: 97\n",
      "the sum of all numbers 1 to 101: 98\n",
      "the sum of all numbers 1 to 101: 99\n",
      "the sum of all numbers 1 to 101: 100\n"
     ]
    }
   ],
   "source": [
    "#3)Write a Python program to calculate the sum of all numbers from 1 to 100 using a for loop.?\n",
    "total_sum=0\n",
    "for i in range(1,101):\n",
    "    total_sum +=1\n",
    "    print(\"the sum of all numbers 1 to 101:\",total_sum)\n",
    "    "
   ]
  },
  {
   "cell_type": "code",
   "execution_count": 9,
   "id": "21a96c26-6c68-4100-94f7-0ec1b90d77ad",
   "metadata": {},
   "outputs": [
    {
     "name": "stdout",
     "output_type": "stream",
     "text": [
      "1\n",
      "2\n",
      "3\n",
      "4\n",
      "5\n",
      "6\n"
     ]
    }
   ],
   "source": [
    "#4)How do you iterate through a list using a for loop in Python?\n",
    "my_list=[1,2,3,4,5,6]\n",
    "for element in my_list:\n",
    "    print(element)"
   ]
  },
  {
   "cell_type": "code",
   "execution_count": 10,
   "id": "49315853-8251-47bb-91f9-c10f348aeed0",
   "metadata": {},
   "outputs": [
    {
     "name": "stdout",
     "output_type": "stream",
     "text": [
      "the product of all elements in the list is:120\n"
     ]
    }
   ],
   "source": [
    "#5)Write a Python program to find the product of all elements in a list using a for loop.?\n",
    "def product_of_elements(lst):\n",
    "    result=1\n",
    "    for num in lst:\n",
    "        result *=num\n",
    "    return result\n",
    "my_list=[2,3,4,5]\n",
    "result_product=product_of_elements(my_list)\n",
    "print(f\"the product of all elements in the list is:{result_product}\")\n"
   ]
  },
  {
   "cell_type": "code",
   "execution_count": 11,
   "id": "b48f5030-ae5b-4847-b249-db71b61f2640",
   "metadata": {},
   "outputs": [
    {
     "name": "stdout",
     "output_type": "stream",
     "text": [
      "2\n",
      "4\n",
      "6\n",
      "8\n",
      "10\n",
      "12\n",
      "14\n",
      "16\n",
      "18\n",
      "20\n"
     ]
    }
   ],
   "source": [
    "#6)Create a Python program that prints all even numbers from 1 to 20 using a for loop.?\n",
    "for num in range(1,21):\n",
    "    if num%2==0:\n",
    "        print(num)\n"
   ]
  },
  {
   "cell_type": "code",
   "execution_count": 12,
   "id": "b5ae76ea-decf-4976-bb1a-ad730ddd497f",
   "metadata": {},
   "outputs": [
    {
     "name": "stdout",
     "output_type": "stream",
     "text": [
      "number: 5\n",
      "factorial: 120\n"
     ]
    }
   ],
   "source": [
    "#7)Write a Python program that calculates the factorial of a number using a for loop.?\n",
    "def factorial(n):\n",
    "    if(n==1 or n==0):\n",
    "        return 1\n",
    "    else:\n",
    "        return(n*factorial(n-1))\n",
    "num=5;\n",
    "print(\"number:\",num)\n",
    "print(\"factorial:\",factorial(num))\n"
   ]
  },
  {
   "cell_type": "code",
   "execution_count": 13,
   "id": "8a03d8af-7dc5-4221-913c-15a6cf53ec8e",
   "metadata": {},
   "outputs": [
    {
     "name": "stdout",
     "output_type": "stream",
     "text": [
      "r\n",
      "a\n",
      "n\n",
      "j\n",
      "i\n",
      "t\n",
      "h\n",
      ",\n",
      "k\n",
      "u\n",
      "m\n",
      "a\n",
      "r\n",
      "!\n"
     ]
    }
   ],
   "source": [
    "#8)How can you iterate through the characters of a string using a for loop in Python?\n",
    "my_string=\"ranjith,kumar!\"\n",
    "for char in my_string:\n",
    "    print(char)"
   ]
  },
  {
   "cell_type": "code",
   "execution_count": 14,
   "id": "7b0aa407-838c-49df-8dab-71ba7f87b00a",
   "metadata": {},
   "outputs": [
    {
     "name": "stdout",
     "output_type": "stream",
     "text": [
      "the largest number in the list is:69\n"
     ]
    }
   ],
   "source": [
    "#9)Write a Python program to find the largest number in a list using a for loop.?\n",
    "def find_largest_number(numbers):\n",
    "    if not numbers:\n",
    "        return none\n",
    "    largest=numbers[0]\n",
    "    for num in numbers:\n",
    "        if num>largest:\n",
    "            largest=num\n",
    "    return largest\n",
    "num_list=[11,7,26,49,5,69,13]\n",
    "largest_number=find_largest_number(num_list)\n",
    "print(f\"the largest number in the list is:{largest_number}\")\n"
   ]
  },
  {
   "cell_type": "code",
   "execution_count": 15,
   "id": "a0916713-d7a3-4c4f-99ee-e92c46485c40",
   "metadata": {},
   "outputs": [
    {
     "name": "stdout",
     "output_type": "stream",
     "text": [
      "enter the limit for the fibonacci sequence: 7\n"
     ]
    },
    {
     "name": "stdout",
     "output_type": "stream",
     "text": [
      "fibonacci sequence up to limit:\n",
      "0 1 1 2 3 5\n"
     ]
    }
   ],
   "source": [
    "#10)Create a Python program that prints the Fibonacci sequence up to a specified limit using a for loop.?\n",
    "def fibonacci_sequence(limit):\n",
    "    if limit<=0:\n",
    "        print(\"please enter a positive limit\")\n",
    "        return\n",
    "    elif limit==1:\n",
    "        print(\"fibonacci sequence up to limit\")\n",
    "        print(\"0\")\n",
    "        return\n",
    "    sequence=[0,1]\n",
    "    for i in range(2,limit):\n",
    "        next_number=sequence[i-1]+sequence[i-2]\n",
    "        if next_number>limit:\n",
    "            break\n",
    "        sequence.append(next_number)\n",
    "    print(\"fibonacci sequence up to limit:\")\n",
    "    print(*sequence)\n",
    "limit=int(input(\"enter the limit for the fibonacci sequence:\"))\n",
    "fibonacci_sequence(limit)"
   ]
  },
  {
   "cell_type": "code",
   "execution_count": 16,
   "id": "6254f9ef-e0fe-4660-bcaa-4c675dd7f0e5",
   "metadata": {},
   "outputs": [
    {
     "name": "stdout",
     "output_type": "stream",
     "text": [
      "enter a str SCIENCE\n"
     ]
    },
    {
     "name": "stdout",
     "output_type": "stream",
     "text": [
      "nuber of vowels: 3\n"
     ]
    }
   ],
   "source": [
    "#11)Write a Python program to count the number of vowels in a given string using a for loop.?\n",
    "str=input(\"enter a str\")\n",
    "vowel_count=0\n",
    "for char in str:\n",
    "    char_lower=char.lower()\n",
    "    if char_lower in \"aeiou\":\n",
    "        vowel_count +=1\n",
    "print(\"nuber of vowels:\",vowel_count) "
   ]
  },
  {
   "cell_type": "code",
   "execution_count": 18,
   "id": "8f1c5262-077a-4a05-ae62-c49743b912a3",
   "metadata": {},
   "outputs": [
    {
     "name": "stdout",
     "output_type": "stream",
     "text": [
      "enter the number for which you are locking for table 17\n"
     ]
    },
    {
     "name": "stdout",
     "output_type": "stream",
     "text": [
      "17 * 1 = 17\n",
      "17 * 2 = 17\n",
      "17 * 3 = 17\n",
      "17 * 4 = 17\n",
      "17 * 5 = 17\n",
      "17 * 6 = 17\n",
      "17 * 7 = 17\n",
      "17 * 8 = 17\n",
      "17 * 9 = 17\n",
      "17 * 10 = 17\n"
     ]
    }
   ],
   "source": [
    "#12)Create a Python program that generates a multiplication table for a given number using a for loop.?\n",
    "n=int(input(\"enter the number for which you are locking for table\"))\n",
    "i=1\n",
    "while i<=10:\n",
    "      product=n*1\n",
    "      print(n,\"*\",i,\"=\",product)\n",
    "      i=i+1"
   ]
  },
  {
   "cell_type": "code",
   "execution_count": 19,
   "id": "6ebd37e2-7836-4f52-bfb7-15559ff45a9b",
   "metadata": {},
   "outputs": [
    {
     "name": "stdout",
     "output_type": "stream",
     "text": [
      "Original list: [1, 2, 3, 4, 5]\n",
      "Reversed list: [5, 4, 3, 2, 1]\n"
     ]
    }
   ],
   "source": [
    "#13)Write a Python program to reverse a list using a for loop.?\n",
    "def reverse_list(lst):\n",
    "    reversed_list = []\n",
    "    for i in range(len(lst) - 1, -1, -1):\n",
    "        reversed_list.append(lst[i])\n",
    "    return reversed_list\n",
    "my_list = [1, 2, 3, 4, 5]\n",
    "reversed_list = reverse_list(my_list)\n",
    "print(\"Original list:\", my_list)\n",
    "print(\"Reversed list:\", reversed_list)\n"
   ]
  },
  {
   "cell_type": "code",
   "execution_count": 20,
   "id": "e54aa925-8a8a-425b-a5c0-8c6048e5bd5d",
   "metadata": {},
   "outputs": [
    {
     "name": "stdout",
     "output_type": "stream",
     "text": [
      "List A: [1, 2, 3, 4, 5]\n",
      "List B: [3, 4, 5, 6, 7]\n",
      "Common elements: [3, 4, 5]\n"
     ]
    }
   ],
   "source": [
    "#14)Write a Python program to find the common elements between two lists using a for loop.?\n",
    "def find_common_elements(list1, list2):\n",
    "    common_elements = []\n",
    "    for element in list1:\n",
    "        if element in list2 and element not in common_elements:\n",
    "            common_elements.append(element)\n",
    "    return common_elements\n",
    "list_a = [1, 2, 3, 4, 5]\n",
    "list_b = [3, 4, 5, 6, 7]\n",
    "common_elements = find_common_elements(list_a, list_b)\n",
    "print(\"List A:\", list_a)\n",
    "print(\"List B:\", list_b)\n",
    "print(\"Common elements:\", common_elements)"
   ]
  },
  {
   "cell_type": "code",
   "execution_count": 21,
   "id": "f59cd8b5-513a-4b1a-be2d-1c1b690b9553",
   "metadata": {},
   "outputs": [
    {
     "name": "stdout",
     "output_type": "stream",
     "text": [
      "Key: subject, Value: mathematics\n",
      "Key: name, Value: ranjith\n",
      "Key: book, Value: DSA\n"
     ]
    }
   ],
   "source": [
    "#15)Explain how to use a for loop to iterate through the keys and values of a dictionary in Python.?\n",
    "my_dict = {'subject': 'mathematics', 'name': 'ranjith', 'book': 'DSA'}\n",
    "for key, value in my_dict.items():\n",
    "    print(f\"Key: {key}, Value: {value}\")"
   ]
  },
  {
   "cell_type": "code",
   "execution_count": 22,
   "id": "66d0f890-96ef-4cf8-8b87-65c7eb8a29ba",
   "metadata": {},
   "outputs": [
    {
     "name": "stdout",
     "output_type": "stream",
     "text": [
      "GCD of 46 and 70 is 2\n"
     ]
    }
   ],
   "source": [
    "#16)Write a Python program to find the GCD (Greatest Common Divisor) of two numbers using a for loop.?\n",
    "num1=46\n",
    "num2=70\n",
    "gcd=1\n",
    "for i in range(1,min(num1,num2)):\n",
    "    if num1%i==0 and num2%i==0:\n",
    "        gcd=i\n",
    "print(\"GCD of\",num1,\"and\",num2,\"is\",gcd)"
   ]
  },
  {
   "cell_type": "code",
   "execution_count": 23,
   "id": "2e240442-82c5-4b48-92cc-acac781427bd",
   "metadata": {},
   "outputs": [
    {
     "name": "stdout",
     "output_type": "stream",
     "text": [
      "enter a string: level\n"
     ]
    },
    {
     "name": "stdout",
     "output_type": "stream",
     "text": [
      "\"level\" is a palindrome.\n"
     ]
    }
   ],
   "source": [
    "#17)Create a Python program that checks if a string is a palindrome using a for loop.?\n",
    "def is_palindrome(string):\n",
    "    string=string.replace(\" \",\"\").lower()\n",
    "    lenght=len(string)\n",
    "    for i in range(lenght//2):\n",
    "        if string[i]!=string[lenght-i-1]:\n",
    "            return False\n",
    "    return True\n",
    "user_input=input(\"enter a string:\")\n",
    "if is_palindrome(user_input):\n",
    "       print(f'\"{user_input}\" is a palindrome.')\n",
    "else:\n",
    "    print(f'\"{user_input}\" is not a palindrome.')"
   ]
  },
  {
   "cell_type": "code",
   "execution_count": 24,
   "id": "f8fe21a3-789e-40a8-9a2d-36c10e921001",
   "metadata": {},
   "outputs": [
    {
     "name": "stdout",
     "output_type": "stream",
     "text": [
      "Original list: [1, 2, 2, 3, 4, 4, 5, 6, 6]\n",
      "List after removing duplicates: [1, 2, 3, 4, 5, 6]\n"
     ]
    }
   ],
   "source": [
    "#18)Write a Python program to remove duplicates from a list using a for loop.?\n",
    "def remove_duplicates(input_list):\n",
    "    unique_list = []\n",
    "    for item in input_list:\n",
    "        if item not in unique_list:\n",
    "            unique_list.append(item)\n",
    "    return unique_list\n",
    "my_list = [1, 2, 2, 3, 4, 4, 5, 6, 6]\n",
    "print(\"Original list:\", my_list)\n",
    "result_list = remove_duplicates(my_list)\n",
    "print(\"List after removing duplicates:\", result_list)"
   ]
  },
  {
   "cell_type": "code",
   "execution_count": 25,
   "id": "765acf45-5bbb-4daa-8657-c16b5c1ad42b",
   "metadata": {},
   "outputs": [
    {
     "name": "stdout",
     "output_type": "stream",
     "text": [
      "enter a sentence:  python programming language\n"
     ]
    },
    {
     "name": "stdout",
     "output_type": "stream",
     "text": [
      "the number of words in the sentence is:3\n"
     ]
    }
   ],
   "source": [
    "#19)Create a Python program that counts the number of words in a sentence using a for loop.?\n",
    "def count_words(sentence):\n",
    "    word_count=0\n",
    "    words=sentence.split()\n",
    "    for word in words:\n",
    "        word_count +=1\n",
    "    return word_count\n",
    "user_sentence=input(\"enter a sentence:\")\n",
    "result=count_words(user_sentence)\n",
    "print(f\"the number of words in the sentence is:{result}\")\n"
   ]
  },
  {
   "cell_type": "code",
   "execution_count": 26,
   "id": "84967250-9742-4010-86cc-a406eece1ba4",
   "metadata": {},
   "outputs": [
    {
     "name": "stdout",
     "output_type": "stream",
     "text": [
      "the sum of odd numbers from 1 to 50 is:625\n"
     ]
    }
   ],
   "source": [
    "#20)Write a Python program to find the sum of all odd numbers from 1 to 50 using a for loop.?\n",
    "sum_of_odd_numbers=0\n",
    "for num in range(1,51):\n",
    "    if num%2!=0:\n",
    "        sum_of_odd_numbers+=num\n",
    "print(f\"the sum of odd numbers from 1 to 50 is:{sum_of_odd_numbers}\") "
   ]
  },
  {
   "cell_type": "code",
   "execution_count": 27,
   "id": "e2b91f84-b5b6-4999-a11b-df34d5a980fe",
   "metadata": {},
   "outputs": [
    {
     "name": "stdout",
     "output_type": "stream",
     "text": [
      "enter a year: 1995\n"
     ]
    },
    {
     "name": "stdout",
     "output_type": "stream",
     "text": [
      "1995 is not a leap year\n"
     ]
    }
   ],
   "source": [
    "#21)Write a Python program that checks if a given year is a leap year using a for loop.?\n",
    "def is_leap_year(year):\n",
    "    if (year%4==0 and year%100!=0)or(year%400==0):\n",
    "        return True\n",
    "    else:\n",
    "        return False\n",
    "user_year=int(input(\"enter a year:\"))\n",
    "if is_leap_year(user_year):\n",
    "    print(f\"{user_year} is a leap year\")\n",
    "else:\n",
    "    print(f\"{user_year} is not a leap year\")"
   ]
  },
  {
   "cell_type": "code",
   "execution_count": 28,
   "id": "74efcd21-67ce-4972-b4ea-46c147a6d8eb",
   "metadata": {},
   "outputs": [
    {
     "name": "stdout",
     "output_type": "stream",
     "text": [
      "Enter a number:  24\n"
     ]
    },
    {
     "name": "stdout",
     "output_type": "stream",
     "text": [
      "The square root of 24.0 is approximately: 4.898979485566356\n"
     ]
    }
   ],
   "source": [
    "#22)Create a Python program that calculates the square root of a number using a for loop.?\n",
    "def square_root(number):\n",
    "    guess = number / 2.0\n",
    "    iterations = 100\n",
    "    for _ in range(iterations):\n",
    "        guess = (guess + number / guess) / 2.0\n",
    "    return guess\n",
    "user_number = float(input(\"Enter a number: \"))\n",
    "result = square_root(user_number)\n",
    "print(f\"The square root of {user_number} is approximately: {result}\")\n"
   ]
  },
  {
   "cell_type": "code",
   "execution_count": 29,
   "id": "c19d7c0d-bc66-46cb-bcb4-51b7cb150813",
   "metadata": {},
   "outputs": [
    {
     "name": "stdout",
     "output_type": "stream",
     "text": [
      "enter the first number: 3\n",
      "enter the second number: 4\n"
     ]
    },
    {
     "name": "stdout",
     "output_type": "stream",
     "text": [
      "the Least common Multiple(LCM) of 3 and 4 is:12\n"
     ]
    }
   ],
   "source": [
    "#23)Write a Python program to find the LCM (Least Common Multiple) of two numbers using a for loop.?\n",
    "def find_lcm(x,y):\n",
    "    if x>y:\n",
    "        greater=x\n",
    "    else:\n",
    "        greater=y\n",
    "    while True:\n",
    "        if greater % x==0 and greater % y==0:\n",
    "            lcm=greater\n",
    "            break\n",
    "        greater +=1\n",
    "    return lcm\n",
    "num1=int(input(\"enter the first number:\"))\n",
    "num2=int(input(\"enter the second number:\"))\n",
    "result=find_lcm(num1,num2)\n",
    "print(f\"the Least common Multiple(LCM) of {num1} and {num2} is:{result}\")\n"
   ]
  },
  {
   "cell_type": "code",
   "execution_count": 30,
   "id": "68a16596-cf77-48be-a8e7-68c657f80270",
   "metadata": {},
   "outputs": [
    {
     "name": "stdout",
     "output_type": "stream",
     "text": [
      "enter the number: 17\n"
     ]
    },
    {
     "name": "stdout",
     "output_type": "stream",
     "text": [
      "the entered number is positive:\n"
     ]
    }
   ],
   "source": [
    "#if else:\n",
    "#1)Write a Python program to check if a number is positive, negative, or zero using an if-else statement.?\n",
    "num=float(input(\"enter the number:\"))\n",
    "if num>=0:\n",
    "    print(\"the entered number is positive:\")\n",
    "elif num<=0:\n",
    "    print(\"the entered number is negative:\")\n",
    "else:\n",
    "    print(\"the entered number is zero:\")\n"
   ]
  },
  {
   "cell_type": "code",
   "execution_count": 31,
   "id": "e07f9d63-2527-4126-be21-fb32b5556a97",
   "metadata": {},
   "outputs": [
    {
     "name": "stdout",
     "output_type": "stream",
     "text": [
      "enter the number: 23\n"
     ]
    },
    {
     "name": "stdout",
     "output_type": "stream",
     "text": [
      "the number is odd\n"
     ]
    }
   ],
   "source": [
    "#2)Create a Python program that checks if a given number is even or odd using an if-else statement.?\n",
    "num=int(input(\"enter the number:\"))\n",
    "if num % 2==0:\n",
    "    print(\"the number is even \")\n",
    "else:\n",
    "    print(\"the number is odd\")"
   ]
  },
  {
   "cell_type": "code",
   "execution_count": 33,
   "id": "1b271399-bfc7-46c6-bb78-329816de5f7a",
   "metadata": {},
   "outputs": [
    {
     "name": "stdout",
     "output_type": "stream",
     "text": [
      "enter the marks: 77\n"
     ]
    },
    {
     "name": "stdout",
     "output_type": "stream",
     "text": [
      "Grade:c\n",
      "Remark:satisfactory\n"
     ]
    }
   ],
   "source": [
    "#3)How can you use nested if-else statements in Python, and provide an example?\n",
    "marks=float(input(\"enter the marks:\"))\n",
    "if marks>=90:\n",
    "    grade=\"A\"\n",
    "    if marks>=95:\n",
    "        remarks=\"Excelent\"\n",
    "    else:\n",
    "        remark=\"Very Good\"\n",
    "elif marks>=80:\n",
    "     grade=\"B\"\n",
    "     remark=\"Good\"\n",
    "elif marks>=70:\n",
    "     grade=\"c\"\n",
    "     remark=\"satisfactory\"\n",
    "elif marks>=60:\n",
    "    grade=\"D\"\n",
    "    remark=\"Need Improvement\"\n",
    "else:\n",
    "    grade=\"F\"\n",
    "    remark=\"False\"\n",
    "print(f\"Grade:{grade}\")\n",
    "print(f\"Remark:{remark}\")"
   ]
  },
  {
   "cell_type": "code",
   "execution_count": 34,
   "id": "c065b401-283d-479a-a94c-611cea10eb71",
   "metadata": {},
   "outputs": [
    {
     "name": "stdout",
     "output_type": "stream",
     "text": [
      "enter the first number: 14\n",
      "enter the second number: 21\n",
      "enter the third number: 43\n"
     ]
    },
    {
     "name": "stdout",
     "output_type": "stream",
     "text": [
      "the largest number ampng 14.0,21.0,43.0 is:43.0\n"
     ]
    }
   ],
   "source": [
    "#4)Write a Python program to determine the largest of three numbers using if-else.?\n",
    "num1=float(input(\"enter the first number:\"))\n",
    "num2=float(input(\"enter the second number:\"))\n",
    "num3=float(input(\"enter the third number:\"))\n",
    "if num1>=num2 and num1>=num3:\n",
    "    largest=num1\n",
    "elif num2>=num1 and num2>=num3:\n",
    "    largest=num3\n",
    "else:\n",
    "    largest=num3\n",
    "print(f\"the largest number ampng {num1},{num2},{num3} is:{largest}\") "
   ]
  },
  {
   "cell_type": "code",
   "execution_count": 35,
   "id": "54685b77-6c7c-44ea-b5b7-3b3a55e603c3",
   "metadata": {},
   "outputs": [
    {
     "name": "stdout",
     "output_type": "stream",
     "text": [
      "enter a number: -1\n"
     ]
    },
    {
     "name": "stdout",
     "output_type": "stream",
     "text": [
      "the absolute value of -1.0 is:1.0\n"
     ]
    }
   ],
   "source": [
    "#5)Write a Python program that calculates the absolute value of a number using if-else.?\n",
    "num=float(input(\"enter a number:\"))\n",
    "if num<=0:\n",
    "    absolute_value=-num\n",
    "else:\n",
    "    absolute_value=num\n",
    "print(f\"the absolute value of {num} is:{absolute_value}\")"
   ]
  },
  {
   "cell_type": "code",
   "execution_count": 36,
   "id": "268a5370-1a7c-4323-91a7-1f8929f29e56",
   "metadata": {},
   "outputs": [
    {
     "name": "stdout",
     "output_type": "stream",
     "text": [
      "enter a character: program\n"
     ]
    },
    {
     "name": "stdout",
     "output_type": "stream",
     "text": [
      "the character 'program' is a Consonant.\n"
     ]
    }
   ],
   "source": [
    "#6)Create a Python program that checks if a given character is a vowel or consonant using if-else.?\n",
    "char=input(\"enter a character:\")\n",
    "if char.lower() in \"aeiou\":\n",
    "    result=\"vowel\"\n",
    "else:\n",
    "    result=\"Consonant\"\n",
    "print(f\"the character '{char}' is a {result}.\")"
   ]
  },
  {
   "cell_type": "code",
   "execution_count": 37,
   "id": "2a97e818-951d-466d-845b-754ac982655f",
   "metadata": {},
   "outputs": [
    {
     "name": "stdout",
     "output_type": "stream",
     "text": [
      "enter your age; 29\n"
     ]
    },
    {
     "name": "stdout",
     "output_type": "stream",
     "text": [
      "At the age of 29,you are eligible to vote.\n"
     ]
    }
   ],
   "source": [
    "#7)Write a Python program to determine if a user is eligible to vote based on their age using if-else.?\n",
    "age=int(input(\"enter your age;\"))\n",
    "if age>=18:\n",
    "    eligibility=\"eligible\"\n",
    "else:\n",
    "    eligibility=\"not eligible\"\n",
    "print(f\"At the age of {age},you are {eligibility} to vote.\")    "
   ]
  },
  {
   "cell_type": "code",
   "execution_count": 38,
   "id": "f74df1ab-037d-4e70-a5de-276d4e30b072",
   "metadata": {},
   "outputs": [
    {
     "name": "stdout",
     "output_type": "stream",
     "text": [
      "enter the purchase amount:$ 999\n"
     ]
    },
    {
     "name": "stdout",
     "output_type": "stream",
     "text": [
      "Discount amount:$49.95\n",
      "Discounted price:$949.05\n"
     ]
    }
   ],
   "source": [
    "#8)Create a Python program that calculates the discount amount based on the purchase amount using if-else.?\n",
    "def calculate_discount(purchase_amount):\n",
    "    if purchase_amount>=1000:\n",
    "        discount_rate=0.1\n",
    "    elif purchase_amount>=500:\n",
    "        discount_rate=0.05\n",
    "    else:\n",
    "        discount_rate=0\n",
    "    discount_amount=purchase_amount*discount_rate\n",
    "    return discount_amount\n",
    "try:\n",
    "    purchase_amount=float(input(\"enter the purchase amount:$\"))\n",
    "    if purchase_amount<=0:\n",
    "        raise ValueError(\"purchase amount cancot be negative.\")\n",
    "except ValueError as e:\n",
    "    print(f\"Error:{e}\")\n",
    "else:\n",
    "    discount=calculate_discount(purchase_amount)\n",
    "    print(f\"Discount amount:${discount:.2f}\")\n",
    "    discounted_price=purchase_amount-discount\n",
    "    print(f\"Discounted price:${discounted_price:.2f}\")"
   ]
  },
  {
   "cell_type": "code",
   "execution_count": 39,
   "id": "4202e323-78ba-4f46-883a-633030dc6f3d",
   "metadata": {},
   "outputs": [
    {
     "name": "stdout",
     "output_type": "stream",
     "text": [
      "enter a number: 350\n",
      "enter the lower limit of the range: 150\n",
      "enter the upperblimit of the range: 570\n"
     ]
    },
    {
     "name": "stdout",
     "output_type": "stream",
     "text": [
      "350.0 is within the specified range[150.0,570.0.\n"
     ]
    }
   ],
   "source": [
    "#9)Write a Python program to check if a number is within a specified range using if-else.?\n",
    "def check_within_range(number,lower_limit,upper_limit):\n",
    "    if lower_limit <= number<=upper_limit:\n",
    "        print(f\"{number} is within the specified range[{lower_limit},{upper_limit}.\")\n",
    "\n",
    "    else:\n",
    "        print(f\"{number} is outside the specified range[{lower_limit},{upper_limit}.\")\n",
    "        \n",
    "try:\n",
    "    number=float(input(\"enter a number:\"))\n",
    "    lower_limit=float(input(\"enter the lower limit of the range:\"))\n",
    "    upper_limit=float(input(\"enter the upperblimit of the range:\"))\n",
    "except ValueError as e:\n",
    "    print(f\"Error:{e}\")\n",
    "else:\n",
    "    check_within_range(number,lower_limit,upper_limit)"
   ]
  },
  {
   "cell_type": "code",
   "execution_count": 40,
   "id": "c6333321-bc75-4fc3-a99e-2d41f2c34706",
   "metadata": {},
   "outputs": [
    {
     "name": "stdout",
     "output_type": "stream",
     "text": [
      "enter the student's score: 83\n"
     ]
    },
    {
     "name": "stdout",
     "output_type": "stream",
     "text": [
      "the student's grade is :B\n"
     ]
    }
   ],
   "source": [
    "#10)Create a Python program that determines the grade of a student based on their score using if-else.?\n",
    "def calculate_grade(score):\n",
    "    if 90<=score<=100:\n",
    "        return \"A\"\n",
    "    elif 80<=score<90:\n",
    "        return \"B\"\n",
    "    elif 70<=score<80:\n",
    "        return \"c\"\n",
    "    elif 60<=score<70:\n",
    "        return \"D\"\n",
    "    elif 0<=score<60:\n",
    "        return \"F\"\n",
    "    else:\n",
    "        return \"Invalid score\"\n",
    "try:\n",
    "    score=float(input(\"enter the student's score:\"))\n",
    "    if not 0<=score<=100:\n",
    "        raise ValueError(\"score must be between o to 100.\")\n",
    "except ValueError as e:\n",
    "    print(f\"Error :{e}\")\n",
    "else:\n",
    "    grade=calculate_grade(score)\n",
    "    print(f\"the student's grade is :{grade}\")"
   ]
  },
  {
   "cell_type": "code",
   "execution_count": 41,
   "id": "cfb614c5-8d51-4e89-9616-fb976d19ec9e",
   "metadata": {},
   "outputs": [
    {
     "name": "stdout",
     "output_type": "stream",
     "text": [
      "enter a string. python\n"
     ]
    },
    {
     "name": "stdout",
     "output_type": "stream",
     "text": [
      "the string is not empty.\n"
     ]
    }
   ],
   "source": [
    "#11)Write a Python program to check if a string is empty or not using if-else.?\n",
    "def is_string_empty(input_string):\n",
    "    if not input_string:\n",
    "        print(\"the string is empty.\")\n",
    "    else:\n",
    "        print(\"the string is not empty.\")\n",
    "user_input=input(\"enter a string.\")\n",
    "is_string_empty(user_input)"
   ]
  },
  {
   "cell_type": "code",
   "execution_count": 42,
   "id": "2e4e9dec-a126-468d-a8ad-936ded5649c9",
   "metadata": {},
   "outputs": [
    {
     "name": "stdout",
     "output_type": "stream",
     "text": [
      "enter the length of side A: 45\n",
      "enter the length of side B: 35\n",
      "enter the length of side C: 45\n"
     ]
    },
    {
     "name": "stdout",
     "output_type": "stream",
     "text": [
      "it's an isosceles triange.\n"
     ]
    }
   ],
   "source": [
    "#12)Create a Python program that identifies the type of a triangle (e.g., equilateral, isosceles, or scalene) based on input values using if-else.\n",
    "def identify_triangle_type(side_a,side_b,side_c):\n",
    "    if side_a+side_b>side_c and side_a+side_c>side_b and side_b+side_c>side_a:\n",
    "        if side_a==side_b==side_c:\n",
    "            print(\"it's an equilateral triange.\")\n",
    "        elif side_a==side_b or side_a==side_c or side_b==side_c:\n",
    "            print(\"it's an isosceles triange.\")\n",
    "        else:\n",
    "            print(\" it's scalene triange.\")\n",
    "    else:\n",
    "        print(\" it's not a valid triange.\")\n",
    "try:\n",
    "    side_a=float(input(\"enter the length of side A:\"))\n",
    "    side_b=float(input(\"enter the length of side B:\"))\n",
    "    side_c=float(input(\"enter the length of side C:\"))\n",
    "    identify_triangle_type(side_a,side_b,side_c)\n",
    "except ValueError:\n",
    "    print(\"Invalid input.Please enter numerical values for triange sides.\")"
   ]
  },
  {
   "cell_type": "code",
   "execution_count": 43,
   "id": "7dc074e9-24f7-4655-b046-4ac4101c5940",
   "metadata": {},
   "outputs": [
    {
     "name": "stdout",
     "output_type": "stream",
     "text": [
      "enter a number between 1 to 7: 2\n"
     ]
    },
    {
     "name": "stdout",
     "output_type": "stream",
     "text": [
      "the day is Tuesday\n"
     ]
    }
   ],
   "source": [
    "#13)Write a Python program to determine the day of the week based on a user-provided number using if-else.?\n",
    "def determine_day_of_week(day_number):\n",
    "    if day_number==1:\n",
    "        print(\"the day is Monday\")\n",
    "    elif day_number==2:\n",
    "        print(\"the day is Tuesday\")\n",
    "    elif day_number==3:\n",
    "        print(\"the day is Wednesday.\")\n",
    "    elif day_number==4:\n",
    "        print(\"the day is thursday.\")\n",
    "    elif day_number==5:\n",
    "        print(\"the day is Friday.\")\n",
    "    elif day_number==6:\n",
    "        print(\"the day is saturday.\")\n",
    "    elif day_number==7:\n",
    "        print(\"the day is sunday.\")\n",
    "    else:\n",
    "        print(\"Invalid input.Please enter a number between 1 to 7.\")\n",
    "try:\n",
    "    day_number=int(input(\"enter a number between 1 to 7:\"))\n",
    "    determine_day_of_week(day_number)\n",
    "except ValueError:\n",
    "    print(\"Invalid input.Please enter a valid numerical value.\")"
   ]
  },
  {
   "cell_type": "code",
   "execution_count": 44,
   "id": "dc0f43ec-0a33-4574-b68f-a3de5baf05d3",
   "metadata": {},
   "outputs": [
    {
     "name": "stdout",
     "output_type": "stream",
     "text": [
      "enter a year: 2000\n"
     ]
    },
    {
     "name": "stdout",
     "output_type": "stream",
     "text": [
      "2000 is leap year.\n"
     ]
    }
   ],
   "source": [
    "#14)Create a Python program that checks if a given year is a leap year using both if-else and a function.?\n",
    "def is_leap_year(year):\n",
    "    if (year %4==0 and year%100!=0)or(year%400==0):\n",
    "        return True\n",
    "    else:\n",
    "        return False\n",
    "try:\n",
    "    year=int(input(\"enter a year:\"))\n",
    "    if is_leap_year(year):\n",
    "        print(f\"{year} is leap year.\")\n",
    "    else:\n",
    "        print(f\"{year} is not leap year.\")\n",
    "except ValueError:\n",
    "    print(\"Invalid input.Please enter a valid numerical value for the year.\")"
   ]
  },
  {
   "cell_type": "code",
   "execution_count": 45,
   "id": "a8cb725d-2e90-495c-aa28-5969e459ffa0",
   "metadata": {},
   "outputs": [
    {
     "name": "stdout",
     "output_type": "stream",
     "text": [
      "enter the numerator: 50\n",
      "enter the denominator: 5\n"
     ]
    },
    {
     "name": "stdout",
     "output_type": "stream",
     "text": [
      "the result of the division is:10.0\n"
     ]
    }
   ],
   "source": [
    "#15)How do you use the \"assert\" statement in Python to add debugging checks within if-else blocks?\n",
    "def divide_numbers(a,b):\n",
    "    assert b!=0,\"cannot divide by sero.\"\n",
    "    result=a/b\n",
    "    return result\n",
    "try:\n",
    "    numerator=float(input(\"enter the numerator:\"))\n",
    "    denominator=float(input(\"enter the denominator:\"))\n",
    "    result=divide_numbers(numerator,denominator)\n",
    "    print(f\"the result of the division is:{result}\")\n",
    "except ValueError:\n",
    "    print(\"Invalid input.Please enter valid numerical values.\")\n",
    "except AssertionError as e:\n",
    "    print(f\"Error :{e}\")"
   ]
  },
  {
   "cell_type": "code",
   "execution_count": 46,
   "id": "43a099e3-9443-4cad-bdf3-d846593169ba",
   "metadata": {},
   "outputs": [
    {
     "name": "stdout",
     "output_type": "stream",
     "text": [
      "enter your age: 28\n"
     ]
    },
    {
     "name": "stdout",
     "output_type": "stream",
     "text": [
      "sorry, you are not eligible for a senior citizen discount.\n"
     ]
    }
   ],
   "source": [
    "#16)Create a Python program that determines the eligibility of a person for a senior citizen discount based on age using if-else.?\n",
    "def check_senior_citizen_discount(age):\n",
    "    senior_citizen_age=60\n",
    "    if age>=senior_citizen_age:\n",
    "        print(\"congratilation! you are eligible for a senior citizen discount.\")\n",
    "    else:\n",
    "        print(\"sorry, you are not eligible for a senior citizen discount.\")\n",
    "        \n",
    "try:\n",
    "    age=int(input(\"enter your age:\"))\n",
    "    check_senior_citizen_discount(age)\n",
    "except ValueError:\n",
    "            print(\"Invalid in[ut.please enter a valid age as a number.\")"
   ]
  },
  {
   "cell_type": "code",
   "execution_count": 47,
   "id": "c85bbc2c-8a7a-423c-8739-da2b1de7ee0e",
   "metadata": {},
   "outputs": [
    {
     "name": "stdout",
     "output_type": "stream",
     "text": [
      "enter a character: python\n"
     ]
    },
    {
     "name": "stdout",
     "output_type": "stream",
     "text": [
      "the character 'p' is lowercase.\n"
     ]
    }
   ],
   "source": [
    "#17)Write a Python program to categorize a given character as uppercase, lowercase, or neither using if-else.?\n",
    "def categorize_character(char):\n",
    "    if char.isupper():\n",
    "        print(f\"the character '{char}' is uppercase.\")\n",
    "    elif char.islower():\n",
    "        print(f\"the character '{char}' is lowercase.\")\n",
    "    else:\n",
    "        print(f\"the character '{char}' is neither uppercase nor lowercase.\")\n",
    "try:\n",
    "    user_input=input(\"enter a character:\")\n",
    "    char=user_input[0]\n",
    "    categorize_character(char)\n",
    "except IndexError:\n",
    "    print(\"please enter a valid character.\")\n"
   ]
  },
  {
   "cell_type": "code",
   "execution_count": 48,
   "id": "97003af5-01c2-4338-a1fd-a37a6e5bbb60",
   "metadata": {},
   "outputs": [
    {
     "name": "stdout",
     "output_type": "stream",
     "text": [
      "Enter the coefficient a:  19\n",
      "Enter the coefficient b:  17\n",
      "Enter the coefficient c:  7\n"
     ]
    },
    {
     "name": "stdout",
     "output_type": "stream",
     "text": [
      "Root 1: -0.4473684210526316 + 0.4102225596873657i\n",
      "Root 2: -0.4473684210526316 - 0.4102225596873657i\n"
     ]
    }
   ],
   "source": [
    "#18)Write a Python program to determine the roots of a quadratic equation using if-else.?\n",
    "import math\n",
    "def find_roots(a, b, c):\n",
    "    discriminant = b**2 - 4*a*c\n",
    "    if discriminant >= 0:\n",
    "        root1 = (-b + math.sqrt(discriminant)) / (2*a)\n",
    "        root2 = (-b - math.sqrt(discriminant)) / (2*a)\n",
    "        print(\"Root 1:\", root1)\n",
    "        print(\"Root 2:\", root2)\n",
    "    else:\n",
    "        real_part = -b / (2*a)\n",
    "        imaginary_part = math.sqrt(abs(discriminant)) / (2*a)\n",
    "        print(\"Root 1:\", f\"{real_part} + {imaginary_part}i\")\n",
    "        print(\"Root 2:\", f\"{real_part} - {imaginary_part}i\")\n",
    "a = float(input(\"Enter the coefficient a: \"))\n",
    "b = float(input(\"Enter the coefficient b: \"))\n",
    "c = float(input(\"Enter the coefficient c: \"))\n",
    "find_roots(a, b, c)"
   ]
  },
  {
   "cell_type": "code",
   "execution_count": 49,
   "id": "b595d728-ca48-481f-b070-0820e17c82af",
   "metadata": {},
   "outputs": [
    {
     "name": "stdout",
     "output_type": "stream",
     "text": [
      "enter a year: 1994\n"
     ]
    },
    {
     "name": "stdout",
     "output_type": "stream",
     "text": [
      "1994 is not a century year.\n"
     ]
    }
   ],
   "source": [
    "#19)Create a Python program that checks if a given year is a century year or not using if-else.?\n",
    "def is_century_year(year):\n",
    "    if year%100==0:\n",
    "        if year%400==0:\n",
    "            return True\n",
    "        else:\n",
    "            return False\n",
    "year=int(input(\"enter a year:\"))\n",
    "if is_century_year(year):\n",
    "    print(f\"{year} is a century year.\")\n",
    "else:\n",
    "    print(f\"{year} is not a century year.\")"
   ]
  },
  {
   "cell_type": "code",
   "execution_count": 50,
   "id": "6c08eda9-f523-4434-a902-cb84a680460c",
   "metadata": {},
   "outputs": [
    {
     "name": "stdout",
     "output_type": "stream",
     "text": [
      "enter a number: 11\n"
     ]
    },
    {
     "name": "stdout",
     "output_type": "stream",
     "text": [
      "11 is not a perfect square.\n"
     ]
    }
   ],
   "source": [
    "#20)Write a Python program to determine if a given number is a perfect square using if-else.?\n",
    "def is_perfect_square(number):\n",
    "    square_root=int(number**0.5)\n",
    "    if square_root**2==number:\n",
    "        return True\n",
    "    else:\n",
    "        return False\n",
    "number=int(input(\"enter a number:\"))\n",
    "if is_perfect_square(number):\n",
    "    print(f\"{number} is a perfect square.\")\n",
    "else:\n",
    "    print(f\"{number} is not a perfect square.\")"
   ]
  },
  {
   "cell_type": "code",
   "execution_count": 51,
   "id": "5773f5ab-0ecf-4a2c-bfb6-e21e40cf4e0d",
   "metadata": {},
   "outputs": [
    {
     "name": "stdout",
     "output_type": "stream",
     "text": [
      "1\n",
      "2\n",
      "4\n",
      "5\n"
     ]
    }
   ],
   "source": [
    "#21)Explain the purpose of the \"continue\" and \"break\" statements within if-else loops.?\n",
    "### (1).the\" continue \"statement is used to skip the rest of the code inside the loop for the current\n",
    "        # iteration and jump to the next iteration\n",
    "###(2).it is often used when you want to skip some specific condition and continue with the next iteration of the loop.\n",
    "####(3).here's an example:\n",
    "for i in range(1,6):\n",
    "    if i==3:\n",
    "        continue\n",
    "    print(i)"
   ]
  },
  {
   "cell_type": "code",
   "execution_count": 52,
   "id": "54f022cb-8e67-48dc-b735-3f3d369ce3e6",
   "metadata": {},
   "outputs": [
    {
     "name": "stdout",
     "output_type": "stream",
     "text": [
      "1\n",
      "2\n",
      "3\n"
     ]
    }
   ],
   "source": [
    "###(1).the \"break\" statement is used to exit a loop prematurely,regardless of whether the loop condition is still true.\n",
    "###(2).it is often used when a certain condition is met,and you want to terminate the loop immediately \n",
    "###(3).here's an example\n",
    "for i in range(1,6):\n",
    "    if i==4:\n",
    "        break\n",
    "    print(i)  "
   ]
  },
  {
   "cell_type": "code",
   "execution_count": 53,
   "id": "5f2a1a63-3ec4-4a9e-a6a4-ada88856a17a",
   "metadata": {},
   "outputs": [
    {
     "name": "stdout",
     "output_type": "stream",
     "text": [
      "Enter weight in kilograms:  84\n",
      "Enter height in centimeters:  176\n"
     ]
    },
    {
     "name": "stdout",
     "output_type": "stream",
     "text": [
      "BMI: 27.117768595041323\n",
      "Interpretation: Overweight\n"
     ]
    }
   ],
   "source": [
    "#22)Create a Python program that calculates the BMI (Body Mass Index) of a person based on their weight and height using if-else.?\n",
    "def calculate_bmi(weight, height):\n",
    "    height_meters = height / 100\n",
    "    bmi = weight / (height_meters ** 2)\n",
    "\n",
    "    return bmi\n",
    "\n",
    "def interpret_bmi(bmi):\n",
    "    if bmi < 18.5:\n",
    "        return \"Underweight\"\n",
    "    elif 18.5 <= bmi < 25:\n",
    "        return \"Normal weight\"\n",
    "    elif 25 <= bmi < 30:\n",
    "        return \"Overweight\"\n",
    "    else:\n",
    "        return \"Obese\"\n",
    "weight = float(input(\"Enter weight in kilograms: \"))\n",
    "height = float(input(\"Enter height in centimeters: \"))\n",
    "bmi_result = calculate_bmi(weight, height)\n",
    "print(\"BMI:\", bmi_result)\n",
    "print(\"Interpretation:\", interpret_bmi(bmi_result))"
   ]
  },
  {
   "cell_type": "code",
   "execution_count": 54,
   "id": "c0232cd4-d546-4b11-a812-2176b9bccc57",
   "metadata": {},
   "outputs": [
    {
     "name": "stdout",
     "output_type": "stream",
     "text": [
      "[2, 4, 6, 8]\n"
     ]
    }
   ],
   "source": [
    "#23)How can you use the \"filter()\" function with if-else statements to filter elements from a list?\n",
    "#the \"filter()\" function in python is used to filter  elements of an iterable based on a given function.the general syntax of function() is\n",
    "#filter(function,iterable)\n",
    "my_list=[1,2,3,4,5,6,7,8,9]\n",
    "filtered_list=filter(lambda x:True if x %2==0 else False,my_list)\n",
    "result=list(filtered_list)\n",
    "print(result)"
   ]
  },
  {
   "cell_type": "code",
   "execution_count": 55,
   "id": "4ce5f48e-07a6-42a2-86d4-996f4f34ec92",
   "metadata": {},
   "outputs": [
    {
     "name": "stdout",
     "output_type": "stream",
     "text": [
      "enter a number: 7\n"
     ]
    },
    {
     "name": "stdout",
     "output_type": "stream",
     "text": [
      "7 is a prime number.\n"
     ]
    }
   ],
   "source": [
    "#24)Write a Python program to determine if a given number is prime or not using if-else.?\n",
    "def is_prime(number):\n",
    "    if number<2:\n",
    "        return False\n",
    "    elif number<4:\n",
    "        return True\n",
    "    elif number%2==0:\n",
    "        return False\n",
    "    else:\n",
    "        for i in range(3,int(number**0.5)+1,2):\n",
    "            if number % i==0:\n",
    "                return False\n",
    "        return True\n",
    "user_input=int(input(\"enter a number:\"))\n",
    "if is_prime(user_input):\n",
    "    print(f\"{user_input} is a prime number.\")\n",
    "else:\n",
    "    print(f\"{user_input} is not a prime number.\")\n"
   ]
  },
  {
   "cell_type": "code",
   "execution_count": 56,
   "id": "add0af6f-5935-4eb8-9740-9d9321ce20d1",
   "metadata": {},
   "outputs": [
    {
     "name": "stdout",
     "output_type": "stream",
     "text": [
      "[1, 4, 9, 16, 25]\n"
     ]
    }
   ],
   "source": [
    "#map\n",
    "#1)Explain the purpose of the `map()` function in Python and provide an example of how it can be used to apply a function to each element of an iterable.?\n",
    "#the map() function in python is a built in function that is used to apply a specified function to all the items in an iterable(suck as a list,tuple,or othe iterable objects) and returns an iterable (typically a new list)with the results.the basic syntax of the map() function is:\n",
    "#map(function,iterable)\n",
    "def square(x):\n",
    "    return x**2\n",
    "numbers=[1,2,3,4,5]\n",
    "squared_numbers=map(square,numbers)\n",
    "squared_numbers_list=list(squared_numbers)\n",
    "print(squared_numbers_list)"
   ]
  },
  {
   "cell_type": "code",
   "execution_count": 57,
   "id": "222f21cb-fa5a-42e8-b561-9484f30beaa6",
   "metadata": {},
   "outputs": [
    {
     "name": "stdout",
     "output_type": "stream",
     "text": [
      "Squared numbers: [64, 81, 100]\n"
     ]
    }
   ],
   "source": [
    "#2)Write a Python program that uses the `map()` function to square each element of a list of numbers.?\n",
    "def square(x):\n",
    "    return x**2\n",
    "numbers=[8,9,10]\n",
    "squared_numbers=map(square,numbers)\n",
    "squared_numbers_list=list(squared_numbers)\n",
    "print(\"Squared numbers:\",squared_numbers_list)\n"
   ]
  },
  {
   "cell_type": "code",
   "execution_count": 58,
   "id": "37d4e690-fb6c-490a-a393-4b632077f2fb",
   "metadata": {},
   "outputs": [],
   "source": [
    "#3)How does the `map()` function differ from a list comprehension in Python, and when would you choose one over the other?\n",
    "#Differences:\n",
    "#1)Readability:\n",
    "\n",
    "#map() might be less readable in certain cases, especially when using lambda functions.\n",
    "#List comprehensions are often considered more readable and Pythonic.\n",
    "#2)Syntax:\n",
    "\n",
    "#map() requires a function and one or more iterable arguments.\n",
    "#List comprehensions have a more compact and self-contained syntax.\n",
    "#3)Functionality:\n",
    "\n",
    "#map() is more general-purpose, as it can be used with multiple iterables.\n",
    "#List comprehensions are specifically designed for creating lists.\n",
    "#4)Lazy Evaluation:\n",
    "\n",
    "#map() returns an iterator and supports lazy evaluation, which means it generates values on the fly as you iterate over it.\n",
    "#List comprehensions create the entire list in memory when executed.\n",
    "\n",
    "#When to Choose One Over the Other:\n",
    "#1)Use map() When:\n",
    "\n",
    "#You need to apply a function to multiple iterables.\n",
    "#You want lazy evaluation and plan to iterate over the result sequentially without storing it in memory.\n",
    "#2)Use List Comprehension When:\n",
    "\n",
    "#You want to create a list with a concise syntax.\n",
    "#The transformation logic is simple and can be expressed in a single line.\n",
    "#Readability is a priority."
   ]
  },
  {
   "cell_type": "code",
   "execution_count": 59,
   "id": "f107c4a9-2d38-4bd4-b6cd-2d381da6a73d",
   "metadata": {},
   "outputs": [
    {
     "name": "stdout",
     "output_type": "stream",
     "text": [
      "Uppercase Names: ['RANJITH', 'KUMAR', 'RAJESH', 'NEVIN', 'TEVIN']\n"
     ]
    }
   ],
   "source": [
    "#4)Create a Python program that usesthe `map()` function to convert a list of names to uppercase.?\n",
    "def convert_to_uppercase(name):\n",
    "    return name.upper()\n",
    "names=[\"ranjith\",\"kumar\",\"rajesh\",\"nevin\",\"tevin\"]\n",
    "uppercase_names=map(convert_to_uppercase,names)\n",
    "uppercase_names_list=list(uppercase_names)\n",
    "print(\"Uppercase Names:\",uppercase_names_list)"
   ]
  },
  {
   "cell_type": "code",
   "execution_count": 60,
   "id": "948a8b82-66f6-4739-a8a2-7d202dfe5291",
   "metadata": {},
   "outputs": [
    {
     "name": "stdout",
     "output_type": "stream",
     "text": [
      "Word Lenghts: [5, 6, 6, 5]\n"
     ]
    }
   ],
   "source": [
    "#5)Write a Python program that uses the `map()` function to calculate the length of each word in a list of strings.\n",
    "words_list=[\"apple\",\"banana\",\"orange\",\"prape\"]\n",
    "word_lengths=map(len,words_list)\n",
    "word_lengths_list=list(word_lengths)\n",
    "print(\"Word Lenghts:\",word_lengths_list)"
   ]
  },
  {
   "cell_type": "code",
   "execution_count": 61,
   "id": "dede7418-46a5-4759-bd60-715ee3bbba77",
   "metadata": {},
   "outputs": [
    {
     "name": "stdout",
     "output_type": "stream",
     "text": [
      "Result: [6, 8, 10, 12, 14]\n"
     ]
    }
   ],
   "source": [
    "#6)How can you use the `map()` function to apply a custom function to elements of multiple lists simultaneously in Python?\n",
    "def add_elements(x,y):\n",
    "    return x+y\n",
    "list1=[1,2,3,4,5]\n",
    "list2=[5,6,7,8,9]\n",
    "result=map(add_elements,list1,list2)\n",
    "result_list=list(result)\n",
    "print(\"Result:\",result_list)"
   ]
  },
  {
   "cell_type": "code",
   "execution_count": 62,
   "id": "f98652ca-74e5-48c6-ba17-7ae1b9be0dd3",
   "metadata": {},
   "outputs": [
    {
     "name": "stdout",
     "output_type": "stream",
     "text": [
      "Temperatures in Fahrenheit: [32.0, 50.0, 68.0, 86.0, 104.0]\n"
     ]
    }
   ],
   "source": [
    "#7)Create a Python program that uses `map()` to convert a list of temperatures from Celsius to Fahrenheit.\n",
    "def celsius_to_fahrenheit(celsius):\n",
    "    return (celsius*9/5)+32\n",
    "temperatures_celsius=[0,10,20,30,40]\n",
    "temperatures_fahrenheit=map(celsius_to_fahrenheit,temperatures_celsius)\n",
    "temperatures_fahrenheit_list=list(temperatures_fahrenheit)\n",
    "print(\"Temperatures in Fahrenheit:\",temperatures_fahrenheit_list)"
   ]
  },
  {
   "cell_type": "code",
   "execution_count": 63,
   "id": "37c7a13b-fcf4-4d85-a7b6-ae0d270c29f5",
   "metadata": {},
   "outputs": [
    {
     "name": "stdout",
     "output_type": "stream",
     "text": [
      "Rounded Integers: [3, 3, 2, 1, 4]\n"
     ]
    }
   ],
   "source": [
    "#8)Write a Python program that uses the `map()` function to round each element of a list of floating-point numbers to the nearest integer.\n",
    "float_numbers=[3.14,2.718,1.5,0.8,4.2]\n",
    "rounded_integers=map(round,float_numbers)\n",
    "rounded_integers_list=list(rounded_integers)\n",
    "print(\"Rounded Integers:\",rounded_integers_list)"
   ]
  },
  {
   "cell_type": "code",
   "execution_count": 64,
   "id": "3b49217a-eaa9-4c67-959b-ff432e258eb0",
   "metadata": {},
   "outputs": [
    {
     "name": "stdout",
     "output_type": "stream",
     "text": [
      "15\n"
     ]
    }
   ],
   "source": [
    "#Reduce :-\n",
    "#1)What is the `reduce()` function in Python, and what module should you import to use it? Provide an example of its basic usage.?\n",
    "#the \"reduce()\" function in  python is part of the \"functools\" mpdule.it is used to apply a binary function(a function that takes two arguments)cumulatively to the items in an iterable,from left to right ,so as to reduce the iterable to single accumulated result.\n",
    "#examle\n",
    "from functools import reduce\n",
    "def add(x,y):\n",
    "    return x+y\n",
    "numbers=[1,2,3,4,5]\n",
    "result=reduce(add,numbers)\n",
    "print(result)"
   ]
  },
  {
   "cell_type": "code",
   "execution_count": 65,
   "id": "8cfe301e-e168-4e81-827d-3a4c8fc965fb",
   "metadata": {},
   "outputs": [
    {
     "name": "stdout",
     "output_type": "stream",
     "text": [
      "504\n"
     ]
    }
   ],
   "source": [
    "#2)Write a Python program that uses the `reduce()` function to find the product of all elements in a list.\n",
    "from functools import reduce\n",
    "def multiply(x,y):\n",
    "    return x*y\n",
    "numbers=[7,8,9]\n",
    "result=reduce(multiply,numbers)\n",
    "print(result)"
   ]
  },
  {
   "cell_type": "code",
   "execution_count": 66,
   "id": "8ba4a1f6-909b-4575-a973-396ee5f5430a",
   "metadata": {},
   "outputs": [
    {
     "name": "stdout",
     "output_type": "stream",
     "text": [
      "The maximum element in the list is: 36\n"
     ]
    }
   ],
   "source": [
    "#3)Create a Python program that uses `reduce()` to find the maximum element in a list of numbers.\n",
    "from functools import reduce\n",
    "\n",
    "# Define a binary function to find the maximum of two elements\n",
    "def find_max(x, y):\n",
    "    return x if x > y else y\n",
    "\n",
    "# Create a list of numbers\n",
    "numbers = [15, 8, 22, 7, 36]\n",
    "\n",
    "# Use reduce to apply the find_max function cumulatively to the list\n",
    "max_element = reduce(find_max, numbers)\n",
    "\n",
    "# Print the result\n",
    "print(f\"The maximum element in the list is: {max_element}\")"
   ]
  },
  {
   "cell_type": "code",
   "execution_count": 67,
   "id": "9d62dd72-38da-41d3-a236-b43ca0db36d3",
   "metadata": {},
   "outputs": [
    {
     "name": "stdout",
     "output_type": "stream",
     "text": [
      "Hello, world! This is a concatenated string.\n"
     ]
    }
   ],
   "source": [
    "#4)How can you use the `reduce()` function to concatenate a list of strings into a single string?\n",
    "from functools import reduce\n",
    "\n",
    "# Define a binary function for string concatenation\n",
    "def concatenate_strings(x, y):\n",
    "    return x + y\n",
    "\n",
    "# Create a list of strings\n",
    "string_list = [\"Hello, \", \"world\", \"!\", \" This is a concatenated string.\"]\n",
    "\n",
    "# Use reduce to apply the concatenate_strings function cumulatively to the list\n",
    "concatenated_string = reduce(concatenate_strings, string_list)\n",
    "\n",
    "# Print the result\n",
    "print(concatenated_string)"
   ]
  },
  {
   "cell_type": "code",
   "execution_count": 69,
   "id": "af234578-189e-434b-af7e-68585c9ac459",
   "metadata": {},
   "outputs": [
    {
     "name": "stdout",
     "output_type": "stream",
     "text": [
      "enter a non-negative integer to calculates its factorial: 8\n"
     ]
    },
    {
     "name": "stdout",
     "output_type": "stream",
     "text": [
      "the factorial of 8 is :40320\n"
     ]
    }
   ],
   "source": [
    "#5)Write a Python program that calculates the factorial of a number using the `reduce()` function.?\n",
    "from functools import reduce\n",
    "def multiply(x,y):\n",
    "    return x*y\n",
    "def factorial(n):\n",
    "    if n<0:\n",
    "        return \"Factorial is not defined for negative numbers.\"\n",
    "    elif n==0 or n==1:\n",
    "        return 1\n",
    "    else:\n",
    "        return reduce(multiply,range(1,n+1))\n",
    "number=int(input(\"enter a non-negative integer to calculates its factorial:\"))\n",
    "result=factorial(number)\n",
    "print(f\"the factorial of {number} is :{result}\")"
   ]
  },
  {
   "cell_type": "code",
   "execution_count": 70,
   "id": "03f642a4-b675-44b2-b862-89c475c90009",
   "metadata": {},
   "outputs": [
    {
     "name": "stdout",
     "output_type": "stream",
     "text": [
      "the GCD of the numbers is:None\n"
     ]
    }
   ],
   "source": [
    "#6)Create a Python program that uses `reduce()` to find the GCD (Greatest Common Divisor) of a list of numbers.\n",
    "from functools import reduce\n",
    "from math import gcd\n",
    "def find_gcd(numbers):\n",
    "    if not numbers:\n",
    "        return reduce(gcd,numbers)\n",
    "number_list=[36,48,60,72,98,401]\n",
    "result=find_gcd(number_list)\n",
    "print(f\"the GCD of the numbers is:{result}\")"
   ]
  },
  {
   "cell_type": "code",
   "execution_count": 79,
   "id": "8e33124f-49b6-43ed-8720-63462afac50b",
   "metadata": {},
   "outputs": [
    {
     "name": "stdout",
     "output_type": "stream",
     "text": [
      "10\n"
     ]
    }
   ],
   "source": [
    "#7)Write a Python program that uses the `reduce()` function to find the sum of the digits of a given number.?\n",
    "from functools import reduce \n",
    "\n",
    "nums = [1, 2, 3, 4]\n",
    "ans = reduce(lambda x, y: x + y, nums)\n",
    "print(ans) \n",
    "\n",
    "\n"
   ]
  },
  {
   "cell_type": "code",
   "execution_count": 80,
   "id": "dbe653d5-1833-46a9-9447-ea932e9dbff7",
   "metadata": {},
   "outputs": [
    {
     "name": "stdout",
     "output_type": "stream",
     "text": [
      "[2, 4, 6, 8, 10]\n"
     ]
    }
   ],
   "source": [
    "#Filter :-\n",
    "#1)Explain the purpose of the `filter()` function in Python and provide an example of how it can be used to filter elements from an iterable.?\n",
    "#the 'filter()' function in python is a built -in function that is uesd to filter elements from an iterable (such as a list,tuple,or string) based on a specificed function or condition.it creates a new iterator from the elements of the original iterable for which the provided function return \"True\".\n",
    "#filter(function ,iterable)\n",
    "## 'function':this is a function that tests each element of the iterable .if this parameter is 'None',it simply returns the elements of the iterable that are true.\n",
    "##'iterable':this is the iterable to be filtered.\n",
    "def is_even(x):\n",
    "    return x % 2==0\n",
    "numbers=[1,2,3,4,5,6,7,8,9,10]\n",
    "even_numbers=filter(is_even,numbers)\n",
    "even_numbers_list=list(even_numbers)\n",
    "print(even_numbers_list)"
   ]
  },
  {
   "cell_type": "code",
   "execution_count": 81,
   "id": "8e938cc2-ec65-4e4c-9f78-9c7dc1c4d024",
   "metadata": {},
   "outputs": [
    {
     "name": "stdout",
     "output_type": "stream",
     "text": [
      "[2, 4, 6, 8, 10]\n"
     ]
    }
   ],
   "source": [
    "#2)Write a Python program that uses the `filter()` function to select even numbers from a list of integers.?\n",
    "def is_even(x):\n",
    "    return x % 2==0\n",
    "numbers=[1,2,3,4,5,6,7,8,9,10]\n",
    "even_numbers=filter(is_even,numbers)\n",
    "even_numbers_list=list(even_numbers)\n",
    "print(even_numbers_list)"
   ]
  },
  {
   "cell_type": "code",
   "execution_count": 82,
   "id": "281055ba-0b4d-4e25-a658-51627baf8001",
   "metadata": {},
   "outputs": [
    {
     "name": "stdout",
     "output_type": "stream",
     "text": [
      "Names starting with 'D': ['David']\n"
     ]
    }
   ],
   "source": [
    "#3)Create a Python program that uses the `filter()` function to select names that start with a specific letter from a list of strings.?\n",
    "def starts_with_letter(letter,name):\n",
    "    return name.startswith(letter)\n",
    "names=[\"Alice\",\"Bob\",\"Charlie\",\"David\",\"Eva\",\"Frank\"]\n",
    "selected_letter=\"D\"\n",
    "selected_names=filter(lambda x:starts_with_letter(selected_letter,x),names)\n",
    "selected_name_list=list(selected_names)\n",
    "print(f\"Names starting with '{selected_letter}':\",selected_name_list)"
   ]
  },
  {
   "cell_type": "code",
   "execution_count": 83,
   "id": "9269295e-a626-4633-a607-0f1bd49c5722",
   "metadata": {},
   "outputs": [
    {
     "name": "stdout",
     "output_type": "stream",
     "text": [
      "prime numbers: [5, 7, 81, 11, 13, 17, 19, 23, 29, 31, 37, 41, 43, 47, 53, 59, 61]\n"
     ]
    }
   ],
   "source": [
    "#4)Write a Python program that uses the `filter()` function to select prime numbers from a list of integers.?\n",
    "def is_prime(num):\n",
    "    if num<2:\n",
    "        return False\n",
    "    for i in range(2,int(num**0.5)+1):\n",
    "        if num % i==0:\n",
    "            return False\n",
    "        return True\n",
    "numbers=[2,3,5,7,8,24,44,72,81,11,13,17,19,23,29,36,40,72,31,37,41,43,47,53,59,61]    \n",
    "prime_numbers=filter(is_prime,numbers)\n",
    "prime_numbers_list=list(prime_numbers)\n",
    "print(\"prime numbers:\",prime_numbers_list)"
   ]
  },
  {
   "cell_type": "code",
   "execution_count": 84,
   "id": "0a4fd190-0d9f-4923-bdbe-25f71e6b3c0f",
   "metadata": {},
   "outputs": [
    {
     "name": "stdout",
     "output_type": "stream",
     "text": [
      "Filtered list without None values: [1, 3, 5, 7, 8]\n"
     ]
    }
   ],
   "source": [
    "#5)How can you use the `filter()` function to remove None values from a list in Python?\n",
    "my_list=[1,None,3,None,5,None,7,8,None]\n",
    "filtered_list=filter(lambda x: x is not None,my_list)\n",
    "result_list=list(filtered_list)\n",
    "print(\"Filtered list without None values:\",result_list)"
   ]
  },
  {
   "cell_type": "code",
   "execution_count": 85,
   "id": "70b1c434-9d3b-455c-a192-866127072518",
   "metadata": {},
   "outputs": [
    {
     "name": "stdout",
     "output_type": "stream",
     "text": [
      "Words longer than 6 characters: ['strawberry']\n"
     ]
    }
   ],
   "source": [
    "#6)Create a Python program that uses `filter()` to select words longer than a certain length from a list of strings.\n",
    "def is_long_word(word,length):\n",
    "    return len(word)>length\n",
    "words=[\"apple\",\"banana\",\"orange\",\"strawberry\"]\n",
    "min_length=6\n",
    "long_words=filter(lambda x:is_long_word(x,min_length),words)\n",
    "long_words_list=list(long_words)\n",
    "print(f\"Words longer than {min_length} characters:\",long_words_list)"
   ]
  },
  {
   "cell_type": "code",
   "execution_count": 86,
   "id": "09aafab9-22e3-46a2-913e-d6cf5f52cdb0",
   "metadata": {},
   "outputs": [
    {
     "name": "stdout",
     "output_type": "stream",
     "text": [
      "Values greater than 20: [25, 30, 40]\n"
     ]
    }
   ],
   "source": [
    "# 7)Define a function to check if a value is greater than a specified threshold?\n",
    "def is_greater_than_threshold(value, threshold):\n",
    "    return value > threshold\n",
    "values = [10, 25, 5, 30, 15, 40, 20]\n",
    "threshold = 20\n",
    "selected_values = filter(lambda x: is_greater_than_threshold(x, threshold), values)\n",
    "selected_values_list = list(selected_values)\n",
    "print(f\"Values greater than {threshold}:\", selected_values_list)"
   ]
  },
  {
   "cell_type": "code",
   "execution_count": 87,
   "id": "a6a1f97d-d7e3-4d94-87a5-1072709a4e6c",
   "metadata": {},
   "outputs": [],
   "source": [
    "#Recursion:-\n",
    "#1)Explain the concept of recursion in Python. How does it differ from iteration?\n",
    "#Recursion is a programming concept where a function calls itself in its own defination,either\n",
    "#directly or indirectly.in python,like in many programming languages,a recursive function is a function that solves a problem by breaking it down into smaller instances of the same problem.\n",
    "def factorial(n):\n",
    "    if n==0 or n==1:\n",
    "        return 1\n",
    "    else:\n",
    "        return n*factorial(n-1)"
   ]
  },
  {
   "cell_type": "code",
   "execution_count": 88,
   "id": "3b9e6ee5-ea6d-4fef-8e0c-d51254cd5a3b",
   "metadata": {},
   "outputs": [],
   "source": [
    "#Recursion is a powerful and elegant way to solve certain problems, especially those that can be naturally expressed in terms of smaller instances of the same problem. However, it's important to handle base cases properly to avoid infinite recursion.\n",
    "\n",
    "#Iteration, on the other hand, is a process where a set of instructions or statements are repeated in a sequence a certain number of times or until a specific condition is met. Iteration is often achieved using loops, such as for and while loops in Python. In iteration, a loop structure is used to repeatedly execute a block of code.\n",
    "\n",
    "def factorial_iterative(n):\n",
    "    result=1\n",
    "    for i in range(1,n+1):\n",
    "        result *=i\n",
    "    return result    \n",
    "#key differences between recursion and iteration:\n",
    "#1)Termination condition:\n",
    "#1.recursion relies on base cases to terminate the recursive cells.\n",
    "#2.iteration relies on a loop condition to determine when to stop.\n",
    "#2)Readability and expressiveness:\n",
    "#1.recursion can be more expressive and natural for certain problems,making the code cleaner and easier to understand.\n",
    "#2.iteration can be more explicit and amy be preferred for some situations where the flow is more straightforward\n",
    "#3)memory usage:\n",
    "#1.recursive solutions can sometimes use more memory due to the cell stack.each recursive call adds a new frame to the call stack.\n",
    "#2.iterative solutions often use a constant amount of memory as they reuse the same variables.\n"
   ]
  },
  {
   "cell_type": "code",
   "execution_count": 89,
   "id": "c1975808-5cb7-471d-a2f0-89391b8b77d1",
   "metadata": {},
   "outputs": [
    {
     "name": "stdout",
     "output_type": "stream",
     "text": [
      "the factorial of 5 is :120\n"
     ]
    }
   ],
   "source": [
    "#2)Write a Python program to calculate the factorial of a number using recursion.?\n",
    "def factorial(n):\n",
    "    if n==0 or n==1:\n",
    "        return 1\n",
    "    else:\n",
    "        return n*factorial(n-1)\n",
    "if __name__==\"__main__\":\n",
    "    number=5\n",
    "    result=factorial(number)\n",
    "print(f\"the factorial of {number} is :{result}\") "
   ]
  },
  {
   "cell_type": "code",
   "execution_count": 90,
   "id": "6d7247d6-0f6b-4982-b657-d0358155ab46",
   "metadata": {},
   "outputs": [
    {
     "name": "stdout",
     "output_type": "stream",
     "text": [
      "the 6th Fibonacci number is:8\n"
     ]
    }
   ],
   "source": [
    "#3)Create a recursive Python function to find the nth Fibonacci number.?\n",
    "def fibonacci(n):\n",
    "    if n==0:\n",
    "        return 0\n",
    "    elif n==1:\n",
    "        return 1\n",
    "    else:\n",
    "        return fibonacci(n-1)+fibonacci(n-2)\n",
    "if __name__==\"__main__\":\n",
    "    n=6\n",
    "    result=fibonacci(n)\n",
    "print(f\"the {n}th Fibonacci number is:{result}\")  "
   ]
  },
  {
   "cell_type": "code",
   "execution_count": 91,
   "id": "a496a9ef-bd8b-4563-b280-a4cd30f6bd6c",
   "metadata": {},
   "outputs": [
    {
     "name": "stdout",
     "output_type": "stream",
     "text": [
      "the sum of the list[1, 2, 3, 4, 5, 6] is:21\n"
     ]
    }
   ],
   "source": [
    "#4)Write a recursive Python function to calculate the sum of all elements in a list.?\n",
    "def recursive_sum(lst):\n",
    "    if not lst:\n",
    "        return 0\n",
    "    else:\n",
    "        return lst[0]+recursive_sum(lst[1:])\n",
    "if __name__==\"__main__\":\n",
    "    my_list=[1,2,3,4,5,6]\n",
    "    result=recursive_sum(my_list)\n",
    "print(f\"the sum of the list{my_list} is:{result}\") "
   ]
  },
  {
   "cell_type": "code",
   "execution_count": 92,
   "id": "4b2ba447-076a-4444-9a68-ba0fd89e0adc",
   "metadata": {},
   "outputs": [],
   "source": [
    "#5)How can you prevent a recursive function from running indefinitely, causing a stack overflow error?\n",
    "# to prevent a recursive function from running indefinitly and causing a stack overflow error,you can implement proper termination conditions within the recursive function.these termination conditions are also known as base cases.base cases define scenarios where the function should stop the recursion and return a result without making further recursive calls.\n",
    "def factorial(n):\n",
    "    if n==0 or n==1:\n",
    "        return 1\n",
    "    else:\n",
    "        return n *factorial(n-1)\n",
    "#When creating recursive functions, always identify the base cases that will terminate the recursion \n",
    "#and ensure that the input to the function eventually reaches those base cases during the recursive calls."
   ]
  },
  {
   "cell_type": "code",
   "execution_count": 93,
   "id": "9b7401a0-63bb-4628-b897-a4fcacefddfa",
   "metadata": {},
   "outputs": [
    {
     "name": "stdout",
     "output_type": "stream",
     "text": [
      "the GCD of 48 is :6\n"
     ]
    }
   ],
   "source": [
    "#6)Create a recursive Python function to find the greatest common divisor (GCD) of two numbers using the Euclidean algorithm.?\n",
    "def gcd_euclidean(a,b):\n",
    "    if b==0:\n",
    "        return a\n",
    "    else:\n",
    "        return gcd_euclidean(b,a%b)\n",
    "if __name__==\"__main__\":\n",
    "    a=48\n",
    "    b=18\n",
    "result=gcd_euclidean(a,b)\n",
    "print(f\"the GCD of {a} is :{result}\")"
   ]
  },
  {
   "cell_type": "code",
   "execution_count": 94,
   "id": "45b948c9-f27c-417f-b238-0d47a2217eef",
   "metadata": {},
   "outputs": [
    {
     "name": "stdout",
     "output_type": "stream",
     "text": [
      "Reversed String:!htijnaR,wolleh\n"
     ]
    }
   ],
   "source": [
    "#7)Write a recursive Python function to reverse a string.?\n",
    "def reverse_string(input_str):\n",
    "    if len(input_str)<=1:\n",
    "        return input_str\n",
    "    return reverse_string(input_str[1:])+input_str[0]\n",
    "original_string=\"hellow,Ranjith!\"\n",
    "reversed_string=reverse_string(original_string)\n",
    "print(f\"Reversed String:{reversed_string}\") "
   ]
  },
  {
   "cell_type": "code",
   "execution_count": 95,
   "id": "c0dbbe71-e2ba-40fe-8f3e-68d98f47c1ea",
   "metadata": {},
   "outputs": [
    {
     "name": "stdout",
     "output_type": "stream",
     "text": [
      "2 raised to the power of3 is:8\n"
     ]
    }
   ],
   "source": [
    "#8)Create a recursive Python function to calculate the power of a number (x^n).\n",
    "def power(x,n):\n",
    "    if n==0:\n",
    "        return 1\n",
    "    return x *power(x,n-1)\n",
    "base=2\n",
    "exponent=3\n",
    "result=power(base,exponent)\n",
    "print(f\"{base} raised to the power of{exponent} is:{result}\")"
   ]
  },
  {
   "cell_type": "code",
   "execution_count": 96,
   "id": "ca310d70-40c6-4b44-948f-a63b7baf2bb4",
   "metadata": {},
   "outputs": [
    {
     "name": "stdout",
     "output_type": "stream",
     "text": [
      "All permutations of 'abc': ['abc', 'bac', 'bca', 'acb', 'cab', 'cba']\n"
     ]
    }
   ],
   "source": [
    "#9)Write a recursive Python function to find all permutations of a given string.\n",
    "def find_permutations(input_str):\n",
    "    if len(input_str) <= 1:\n",
    "        return [input_str]\n",
    "    smaller_permutations = find_permutations(input_str[1:])\n",
    "    all_permutations = []\n",
    "    for perm in smaller_permutations:\n",
    "        for i in range(len(perm) + 1):\n",
    "            all_permutations.append(perm[:i] + input_str[0] + perm[i:])\n",
    "    \n",
    "    return all_permutations\n",
    "input_string = \"abc\"\n",
    "result_permutations = find_permutations(input_string)\n",
    "print(f\"All permutations of '{input_string}': {result_permutations}\")"
   ]
  },
  {
   "cell_type": "code",
   "execution_count": 97,
   "id": "4ad54070-a0c7-4de3-b860-ec167d8ac6f5",
   "metadata": {},
   "outputs": [
    {
     "name": "stdout",
     "output_type": "stream",
     "text": [
      "is palindrome\n"
     ]
    }
   ],
   "source": [
    "#10)Write a recursive Python function to check if a string is a palindrome.?\n",
    "def is_palindrome(input_str):\n",
    "    if len(input_str)<=1:\n",
    "        return True\n",
    "    if input_str[0]==input_str[-1]:\n",
    "        return is_palindrome(input_str[1:-1])\n",
    "    else:\n",
    "        return False\n",
    "test_string=\"radar\"\n",
    "result=is_palindrome(test_string)\n",
    "if result:\n",
    "    print(f\"is palindrome\")\n",
    "else:\n",
    "    print(f\" is not palindrome\")"
   ]
  },
  {
   "cell_type": "code",
   "execution_count": 98,
   "id": "0cd66ce4-d8b2-42d0-a8f4-ae6bd0be9d02",
   "metadata": {},
   "outputs": [
    {
     "name": "stdout",
     "output_type": "stream",
     "text": [
      "All possible combinations:\n",
      "[1, 2, 3]\n",
      "[1, 2]\n",
      "[1, 3]\n",
      "[1]\n",
      "[2, 3]\n",
      "[2]\n",
      "[3]\n",
      "[]\n"
     ]
    }
   ],
   "source": [
    "#11)Create a recursive Python function to generate all possible combinations of a list of elements.?\n",
    "def generate_combinations(elements, current_combination=[], index=0, all_combinations=[]):\n",
    "    if index == len(elements):\n",
    "        all_combinations.append(current_combination.copy())\n",
    "        return\n",
    "    generate_combinations(elements, current_combination + [elements[index]], index + 1, all_combinations)\n",
    "    generate_combinations(elements, current_combination, index + 1, all_combinations)\n",
    "    return all_combinations\n",
    "elements_to_combine = [1, 2, 3]\n",
    "result = generate_combinations(elements_to_combine)\n",
    "\n",
    "print(\"All possible combinations:\")\n",
    "for combination in result:\n",
    "    print(combination)"
   ]
  },
  {
   "cell_type": "code",
   "execution_count": 99,
   "id": "50c5c238-5bc0-47e7-8378-3f04b9fcf3d5",
   "metadata": {},
   "outputs": [],
   "source": [
    "#Basics of Functions:\n",
    "#1)What is a function in Python, and why is it used?\n",
    "#1.in python, a function is a block of resuable code that performs a specific task or set of tasks.\n",
    "   # Functions allow you to organize your code into modular and manageable pieces.they help in breaking down a program into smaller,\n",
    "   # more manageable parts, making the code more readable,maintainable,and easier to debug."
   ]
  },
  {
   "cell_type": "code",
   "execution_count": 100,
   "id": "642286a7-894e-46b6-a7e8-c90b9e527425",
   "metadata": {},
   "outputs": [],
   "source": [
    "def greet(name):\n",
    "    print(\"hellow,\"+name+\"!\")"
   ]
  },
  {
   "cell_type": "code",
   "execution_count": 101,
   "id": "9a0abede-37e5-4dd8-88ae-fdefcba82c87",
   "metadata": {},
   "outputs": [
    {
     "name": "stdout",
     "output_type": "stream",
     "text": [
      "hellow,Ranjith!\n"
     ]
    }
   ],
   "source": [
    "greet(\"Ranjith\")"
   ]
  },
  {
   "cell_type": "code",
   "execution_count": 102,
   "id": "9b8b3ab4-1ce3-4037-8dcb-23601fd3d64e",
   "metadata": {},
   "outputs": [
    {
     "name": "stdout",
     "output_type": "stream",
     "text": [
      "the sum of 5 and 7 is:12\n"
     ]
    }
   ],
   "source": [
    "#2)How do you define a function in Python? Provide an example.\n",
    "#1.)Here's a simple example of defining a function that adds two numbers:\n",
    "def add_numbers(a,b):\n",
    "    result=a+b\n",
    "    print(f\"the sum of {a} and {b} is:{result}\")\n",
    "add_numbers(5,7)   "
   ]
  },
  {
   "cell_type": "code",
   "execution_count": 103,
   "id": "ffb6b9e0-b2da-4e4a-88ab-28a205355ffa",
   "metadata": {},
   "outputs": [],
   "source": [
    "#3)Explain the difference between a function definition and a function call.?\n",
    "# 1). Function Definition:-Involves creating the structure of the function ,specifying its name,parameters,and code to be executed.\n",
    "# 2). Function cell:- Involves using the Function's name and passing the necessary values or variables to executr the code defined in the function"
   ]
  },
  {
   "cell_type": "code",
   "execution_count": 104,
   "id": "91f06992-9d6e-487d-931c-617df2c85339",
   "metadata": {},
   "outputs": [],
   "source": [
    "# here's the function definition example.\n",
    "def add_numbers(a,b):\n",
    "    result = a+b\n",
    "    print(f\"the sum of {a} and {b} is:{result}\")"
   ]
  },
  {
   "cell_type": "code",
   "execution_count": 105,
   "id": "556aa790-df1c-4fda-8e20-6cbaf16c548e",
   "metadata": {},
   "outputs": [
    {
     "name": "stdout",
     "output_type": "stream",
     "text": [
      "the sum of 10 and 10 is:20\n"
     ]
    }
   ],
   "source": [
    "# here's the function cell example.\n",
    "add_numbers(10,10)"
   ]
  },
  {
   "cell_type": "code",
   "execution_count": 106,
   "id": "cd3d1587-2d52-4780-ad4d-94a820e6019d",
   "metadata": {},
   "outputs": [
    {
     "name": "stdout",
     "output_type": "stream",
     "text": [
      "enter the first number: 29\n",
      "enter the second number: 19\n"
     ]
    },
    {
     "name": "stdout",
     "output_type": "stream",
     "text": [
      "the sum of 29.0 and 19.0 is:48.0\n"
     ]
    }
   ],
   "source": [
    "#4)Write a Python program that defines a function to calculate the sum of two numbers and then calls the function\n",
    "def calculate_sum(a,b):\n",
    "    result=a+b\n",
    "    return result\n",
    "num1=float(input(\"enter the first number:\"))\n",
    "num2=float(input(\"enter the second number:\"))\n",
    "sum_result=calculate_sum(num1,num2)\n",
    "print(f\"the sum of {num1} and {num2} is:{sum_result}\")"
   ]
  },
  {
   "cell_type": "code",
   "execution_count": 107,
   "id": "a8b90767-d996-4689-a42c-b8dbb7b85939",
   "metadata": {},
   "outputs": [],
   "source": [
    "#5)What is a function signature, and what information does it typically include?\n",
    "# a function signature in programming refers to the declaration of a function,which includes certain\n",
    "#key information about the function.the function signature typically incudes the following elements:\n",
    "#1).function name\n",
    "#2).return type\n",
    "#3).parameters/arguments\n",
    "#4).parameter names\n",
    "# here's an example of a function signature in python\n",
    "def add_numbers(x:int,y:int):\n",
    "    result=x+y\n",
    "    return result"
   ]
  },
  {
   "cell_type": "code",
   "execution_count": 108,
   "id": "fa2f6947-202f-4342-8be7-b495b0285ca2",
   "metadata": {},
   "outputs": [
    {
     "name": "stdout",
     "output_type": "stream",
     "text": [
      "enter the first number: 2\n",
      "enter the second number: 2\n"
     ]
    },
    {
     "name": "stdout",
     "output_type": "stream",
     "text": [
      "the product of 2.0 and 2.0 is:4.0\n"
     ]
    }
   ],
   "source": [
    "#6)Create a Python function that takes two arguments and returns their product.\n",
    "def calculate_product(a,b):\n",
    "    result=a*b\n",
    "    return result\n",
    "num1=float(input(\"enter the first number:\"))\n",
    "num2=float(input(\"enter the second number:\"))\n",
    "product_result=calculate_product(num1,num2)\n",
    "print(f\"the product of {num1} and {num2} is:{product_result}\")"
   ]
  },
  {
   "cell_type": "code",
   "execution_count": 109,
   "id": "1fff7427-a314-44f9-b1ae-0ce734cdaf94",
   "metadata": {},
   "outputs": [],
   "source": [
    "#Function Parameters and Arguments:\n",
    "#1)Explain the concepts of formal parameters and actual arguments in Python functions.?\n",
    "#1).in python, when you define a function,you often specify parameters inside the paretheses of the function definition.\n",
    "#these parameters are placeholders for values that the function will receive when it's called.\n",
    "#there are two main types of parameters in python :formal parameters and actual arguments.\n",
    "#1)Formal parameters:\n",
    "#.1)Formal parameters are the placeholders for data that a function expects to receive \n",
    "#.2)they are specified in the function definition \n",
    "#.3)Formal parameters are essentially variables that represent the values that will be passed to the function when it's called\n",
    "#.4)formal parameters are sometimes referred to as parameters or arguments interchangeably,\n",
    "   # but strictly speaking,they are formal parameters when they are defined in the function signature.\n",
    "    #Examlre:\n",
    "def add(x,y):\n",
    "    return x+y"
   ]
  },
  {
   "cell_type": "code",
   "execution_count": 110,
   "id": "431aa949-19bb-4933-adcd-610567e21054",
   "metadata": {},
   "outputs": [],
   "source": [
    "#2)Actual arguments:\n",
    "#.1)Actual arguments are the real values that are passed to function when it's called.\n",
    "#.2)they are the concrete data that the function will operate on.\n",
    "#.3)actual arguments are specified when function is called.\n",
    "#.4)they are sometimes referred to as arguments or function arguments.\n",
    "#.5)Actual arguments can be of different types:positional arguments,keyword arguments,default arguments,and variable-length arguments.\n",
    "#Example:\n",
    "result=add(3,5)"
   ]
  },
  {
   "cell_type": "code",
   "execution_count": 111,
   "id": "24a4e66b-bd06-43db-b26a-7db58466f9be",
   "metadata": {},
   "outputs": [
    {
     "name": "stdout",
     "output_type": "stream",
     "text": [
      "hello Guest\n",
      "hello Ranjith\n"
     ]
    }
   ],
   "source": [
    "#2)Write a Python program that defines a function with default argument values.\n",
    "def greet(name=\"Guest\"):\n",
    "    print(\"hello\",name)\n",
    "greet()\n",
    "greet(\"Ranjith\")"
   ]
  },
  {
   "cell_type": "code",
   "execution_count": 112,
   "id": "e2993bab-6f65-4704-8b07-0c655d4ed533",
   "metadata": {},
   "outputs": [
    {
     "name": "stdout",
     "output_type": "stream",
     "text": [
      "hello, ranjith! have a nice day!\n"
     ]
    }
   ],
   "source": [
    "#3)How do you use keyword arguments in Python function calls? Provide an example.\n",
    "def greet(name,message):\n",
    "    print(\"hello,\",name+\"!\",message)\n",
    "greet(message=\"have a nice day!\",name=\"ranjith\") "
   ]
  },
  {
   "cell_type": "code",
   "execution_count": 114,
   "id": "d27ed3b9-2294-44a8-b13b-3d022b14d962",
   "metadata": {},
   "outputs": [
    {
     "name": "stdout",
     "output_type": "stream",
     "text": [
      "Sum of arguments: 15\n"
     ]
    }
   ],
   "source": [
    "#4)Create a Python function that accepts a variable number of arguments and calculates their sum.\n",
    "def sum_of_arguments(*args):\n",
    "    return sum(args)\n",
    "\n",
    "# Example usage\n",
    "result = sum_of_arguments(1, 2, 3, 4, 5)\n",
    "print(\"Sum of arguments:\", result)\n"
   ]
  },
  {
   "cell_type": "code",
   "execution_count": 115,
   "id": "54bdbdd8-01f0-4bd3-bc66-86cb99fce3f1",
   "metadata": {},
   "outputs": [
    {
     "name": "stdout",
     "output_type": "stream",
     "text": [
      "1\n",
      "2\n",
      "3\n",
      "4\n",
      "5\n"
     ]
    }
   ],
   "source": [
    "#5)What is the purpose of the `*args` and `**kwargs` syntax in function parameter lists?\n",
    "#The *args and **kwargs syntax in function parameter lists in Python allows you to accept a variable number of arguments when defining a function.\n",
    "#*args (Arbitrary Arguments):\n",
    "#*args collects any number of positional arguments into a tuple.\n",
    "#It allows you to pass a variable number of positional arguments to a function.\n",
    "#You can access these arguments using the tuple args.\n",
    "def my_function(*args):\n",
    "    for arg in args:\n",
    "        print(arg)\n",
    "\n",
    "my_function(1, 2, 3, 4, 5)\n"
   ]
  },
  {
   "cell_type": "code",
   "execution_count": 116,
   "id": "896ed8bf-ff6b-4d2c-a127-38524f9787d4",
   "metadata": {},
   "outputs": [
    {
     "name": "stdout",
     "output_type": "stream",
     "text": [
      "a : 1\n",
      "b : 2\n",
      "c : 3\n"
     ]
    }
   ],
   "source": [
    "#**kwargs (Arbitrary Keyword Arguments):\n",
    "#**kwargs collects any number of keyword arguments into a dictionary.\n",
    "#It allows you to pass a variable number of keyword arguments to a function.\n",
    "#You can access these arguments using the dictionary kwargs.\n",
    "#Example:\n",
    "def my_function(**kwargs):\n",
    "    for key, value in kwargs.items():\n",
    "        print(key, \":\", value)\n",
    "\n",
    "my_function(a=1, b=2, c=3)\n",
    "\n"
   ]
  },
  {
   "cell_type": "code",
   "execution_count": 117,
   "id": "3c3802ce-df76-43e0-831e-215cc65cc4b6",
   "metadata": {},
   "outputs": [],
   "source": [
    "#Return Values and Scoping:\n",
    "#1)Describe the role of the `return` statement in Python functions and provide examples.?\n",
    "#1)Describe the role of the `return` statement in Python functions and provide examples\n",
    "# In python the 'return' statement is used within functions to  specify the value that should be returned to the caller of the function.\n",
    "#  when a function is called and it encounters a 'return' statement, it immediately stops execution and passes the specified value back to the caller.\n",
    "# the 'return' statement is crucial for functions that need to produce a result that can be used in the rest of the program.\n",
    "# here's a basic example demonstrating the use of return in function.\n"
   ]
  },
  {
   "cell_type": "code",
   "execution_count": 118,
   "id": "0a5171a3-e430-4a0b-bc53-28b321f06b6b",
   "metadata": {},
   "outputs": [
    {
     "name": "stdout",
     "output_type": "stream",
     "text": [
      "7\n"
     ]
    }
   ],
   "source": [
    "def add_numbers(a,b):\n",
    "    result=a+b\n",
    "    return result \n",
    "sum_result=add_numbers(3,4)\n",
    "print(sum_result)"
   ]
  },
  {
   "cell_type": "code",
   "execution_count": 119,
   "id": "282e77cc-b56d-41c9-b6e1-17813f7b11ca",
   "metadata": {},
   "outputs": [],
   "source": [
    "#2)Explain the concept of variable scope in Python, including local and global variables.\n",
    "# variable scope in python refers to the visibility and accessibility of variables within different parts of a program.python has the following types of varible scope:\n",
    "#1.)Local Scope: variables defined within a function have local scope.they can only be accessed within the function in which they are defined.once the function execution is complete,these varibles are destroyed,and their memory space is released."
   ]
  },
  {
   "cell_type": "code",
   "execution_count": 122,
   "id": "09dc6c00-170a-4b32-8231-a744966a26f0",
   "metadata": {},
   "outputs": [
    {
     "name": "stdout",
     "output_type": "stream",
     "text": [
      "10\n",
      "10\n"
     ]
    }
   ],
   "source": [
    "x=10\n",
    "def my_function():\n",
    "    print(x)\n",
    "my_function()\n",
    "print(x)"
   ]
  },
  {
   "cell_type": "code",
   "execution_count": 123,
   "id": "7c4495e5-7010-411b-9a7b-1dc1aaed3bb4",
   "metadata": {},
   "outputs": [
    {
     "name": "stdout",
     "output_type": "stream",
     "text": [
      "10\n",
      "10\n"
     ]
    }
   ],
   "source": [
    "def my_function():\n",
    "    x = 10  # local variable\n",
    "    print(x)\n",
    "\n",
    "my_function()  # Output: 10\n",
    "print(x)  # This will raise a NameError because x is not defined in the global scope\n"
   ]
  },
  {
   "cell_type": "code",
   "execution_count": 124,
   "id": "b34bfe2d-39e9-4b89-8186-bc40aa7ce33a",
   "metadata": {},
   "outputs": [
    {
     "name": "stdout",
     "output_type": "stream",
     "text": [
      "Inside the function :global_var= 10\n",
      "Inside change_global function: global_var= 20\n",
      "after calling change_global : global_var= 20\n"
     ]
    }
   ],
   "source": [
    "#3)Write a Python program that demonstrates the use of global variables within functions.\n",
    "global_var=10\n",
    "def my_function():\n",
    "    print(\"Inside the function :global_var=\",global_var)\n",
    "def change_global():\n",
    "    global global_var\n",
    "    global_var=20\n",
    "    print(\"Inside change_global function: global_var=\",global_var)\n",
    "my_function()\n",
    "change_global()\n",
    "print(\"after calling change_global : global_var=\",global_var)"
   ]
  },
  {
   "cell_type": "code",
   "execution_count": 125,
   "id": "477b7fc3-b9c3-47af-8068-d9ce1d587cc7",
   "metadata": {},
   "outputs": [
    {
     "name": "stdout",
     "output_type": "stream",
     "text": [
      "the factorial of 5 is:120\n"
     ]
    }
   ],
   "source": [
    "#4)Create a Python function that calculates the factorial of a number and returns it.\n",
    "def factorial(n):\n",
    "    if n==0:\n",
    "        return 1\n",
    "    else:\n",
    "        return n*factorial(n-1)\n",
    "num=5\n",
    "result=factorial(num)\n",
    "print(f\"the factorial of {num} is:{result}\")"
   ]
  },
  {
   "cell_type": "code",
   "execution_count": 126,
   "id": "17a2f79c-684a-4405-9887-4f25f5b13e7f",
   "metadata": {},
   "outputs": [],
   "source": [
    "#5)Create a Python function that calculates the factorial of a number and returns it.\n",
    "# in python you can access variables defined outside a function from within the function by using the 'global'keyword or by simply referencing the variable's name.however if you only want to read the value of the variable within the function and not modify it,you dont need to use 'global'\n",
    "# here's an example to illustrate both cases:"
   ]
  },
  {
   "cell_type": "code",
   "execution_count": 127,
   "id": "da33e8a4-6d57-4348-aca1-de8f4c4080f4",
   "metadata": {},
   "outputs": [
    {
     "name": "stdout",
     "output_type": "stream",
     "text": [
      "Accessing global variable using global keyword inside the function: 10\n",
      "Accessing global variable without using global keyword inside the function: 10\n",
      "Modified global variable: 20\n"
     ]
    }
   ],
   "source": [
    "\n",
    "global_variable = 10\n",
    "\n",
    "def access_global_variable():\n",
    "    global global_variable\n",
    "    print(\"Accessing global variable using global keyword inside the function:\", global_variable)\n",
    "    print(\"Accessing global variable without using global keyword inside the function:\", global_variable)\n",
    "access_global_variable()\n",
    "global_variable = 20\n",
    "print(\"Modified global variable:\", global_variable)"
   ]
  },
  {
   "cell_type": "code",
   "execution_count": 128,
   "id": "309e9192-99e6-4491-b4ae-25f024125bb1",
   "metadata": {},
   "outputs": [
    {
     "data": {
      "text/plain": [
       "<function __main__.<lambda>(arguments)>"
      ]
     },
     "execution_count": 128,
     "metadata": {},
     "output_type": "execute_result"
    }
   ],
   "source": [
    "#Lambda Functions and Higher-Order Functions:\n",
    "#1)What are lambda functions in Python, and when are they typically used?\n",
    "# In python,a lambda function is a small anonymous function defined using the lambda keyword.\n",
    "# Lambda functions can take any numbers of arguments but can only have one expression,they are often used when you need a short,throwaway function for a specific task,especially when you need to pass a simple function as an argument to another function.\n",
    "# here's the general syntax os a lambda function:\n",
    "lambda arguments:expression"
   ]
  },
  {
   "cell_type": "code",
   "execution_count": 129,
   "id": "e8801b81-bf84-46d7-ade3-bce0a3cd7ad0",
   "metadata": {},
   "outputs": [],
   "source": [
    "data=[(1,3),(2,1),(5,2)]\n",
    "sorted_data=sorted(data,key=lambda x:x[1])"
   ]
  },
  {
   "cell_type": "code",
   "execution_count": 130,
   "id": "05cd1d91-7faa-4b79-9d83-3bfcb7966118",
   "metadata": {},
   "outputs": [
    {
     "name": "stdout",
     "output_type": "stream",
     "text": [
      "sorted data: [(2, 1), (5, 2), (1, 3)]\n"
     ]
    }
   ],
   "source": [
    "#2)Write a Python program that uses lambda functions to sort a list of tuples based on the second element\n",
    "data=[(1,3),(2,1),(5,2)]\n",
    "sorted_data=sorted(data,key=lambda x:x[1])\n",
    "print(\"sorted data:\",sorted_data)"
   ]
  },
  {
   "cell_type": "code",
   "execution_count": 131,
   "id": "e0220829-a4b0-4d2c-a520-685209ba1722",
   "metadata": {},
   "outputs": [],
   "source": [
    "#3)Explain the concept of higher-order functions in Python, and provide an example?\n",
    "# In python , higher-order function are functions that can accept other functions as arguments,\n",
    "# returns function as output,or both.this concept is closely related to functional programming,\n",
    "# where functions are treated as frist-class citizes.higher-order functions enable a more flexible and expressive way of writing code,\n",
    "# allowing for the composition and abstraction of functionality.\n",
    "# here's an example to illustrate the concept of higher order function:"
   ]
  },
  {
   "cell_type": "code",
   "execution_count": 132,
   "id": "da85771e-6317-42be-978e-565931e7720b",
   "metadata": {},
   "outputs": [
    {
     "name": "stdout",
     "output_type": "stream",
     "text": [
      "Addition: 8\n",
      "subtraction: 2\n",
      "Multiplication: 15\n",
      "Division: 1.6666666666666667\n"
     ]
    }
   ],
   "source": [
    "def apply_operation(x,y,operation):\n",
    "    return operation(x,y)\n",
    "def add(x,y):\n",
    "    return x+y\n",
    "def subtract(x,y):\n",
    "    return x-y\n",
    "def multiply(x,y):\n",
    "    return x * y\n",
    "def divide(x,y):\n",
    "    if y==0:\n",
    "        return \"Error : Division by Zero!\"\n",
    "    return x/y\n",
    "result_add=apply_operation(5,3,add)\n",
    "result_subtract=apply_operation(5,3,subtract)\n",
    "result_multiply=apply_operation(5,3,multiply)\n",
    "result_divide=apply_operation(5,3,divide)\n",
    "print(\"Addition:\",result_add)\n",
    "print(\"subtraction:\",result_subtract)\n",
    "print(\"Multiplication:\",result_multiply)\n",
    "print(\"Division:\",result_divide)"
   ]
  },
  {
   "cell_type": "code",
   "execution_count": 133,
   "id": "632d1e9a-c77b-4b4f-937b-b83a9c40ebcf",
   "metadata": {},
   "outputs": [
    {
     "name": "stdout",
     "output_type": "stream",
     "text": [
      "Result after doubling each element: [2, 4, 6, 8, 10]\n",
      "Result after squaring each element: [1, 4, 9, 16, 25]\n"
     ]
    }
   ],
   "source": [
    "#4)Create a Python function that takes a list of numbers and a function as arguments, applying the function to each element in the list.\n",
    "def apply_function_to_list(numbers, func):\n",
    "    return [func(num) for num in numbers]\n",
    "numbers = [1, 2, 3, 4, 5]\n",
    "def double(x):\n",
    "    return x * 2\n",
    "result = apply_function_to_list(numbers, double)\n",
    "print(\"Result after doubling each element:\", result)\n",
    "def square(x):\n",
    "    return x ** 2\n",
    "result = apply_function_to_list(numbers, square)\n",
    "print(\"Result after squaring each element:\", result)"
   ]
  },
  {
   "cell_type": "code",
   "execution_count": 134,
   "id": "2710146c-8d23-47ad-b9ac-61ae8024c646",
   "metadata": {},
   "outputs": [],
   "source": [
    "#Built-in Functions:\n",
    "#1)Describe the role of built-in functions like `len()`, `max()`, and `min()` in Python.\n",
    "#.)len(): this function returns the length of an object.it can be applied to sequences (such as strins,lists,tuples,etc.)and collections to determine the number of elements they contain.for example"
   ]
  },
  {
   "cell_type": "code",
   "execution_count": 135,
   "id": "61c9ac90-320e-4a62-9eb5-fa9704ecc1ca",
   "metadata": {},
   "outputs": [
    {
     "name": "stdout",
     "output_type": "stream",
     "text": [
      "5\n"
     ]
    }
   ],
   "source": [
    "my_list=[1,2,3,4,5]\n",
    "print(len(my_list))"
   ]
  },
  {
   "cell_type": "code",
   "execution_count": 136,
   "id": "1ccedb3b-b1e0-4ce0-aace-f84a6457f804",
   "metadata": {},
   "outputs": [
    {
     "name": "stdout",
     "output_type": "stream",
     "text": [
      "13\n"
     ]
    }
   ],
   "source": [
    "my_string=\"hello ,world!\"\n",
    "print(len(my_string))"
   ]
  },
  {
   "cell_type": "code",
   "execution_count": 137,
   "id": "8c7014fb-aed4-4296-8ea9-12d35bc0e568",
   "metadata": {},
   "outputs": [],
   "source": [
    "#2)max():this function return the maximum value from a sequence or collection .it can take multiple arguments or an iterable (such as alist,tupl or string) and returns the largest element.for example:"
   ]
  },
  {
   "cell_type": "code",
   "execution_count": 138,
   "id": "22652037-3596-417c-955e-9eaf8fbbe33e",
   "metadata": {},
   "outputs": [
    {
     "name": "stdout",
     "output_type": "stream",
     "text": [
      "5\n"
     ]
    }
   ],
   "source": [
    "my_list=[1,2,3,4,5]\n",
    "print(max(my_list))"
   ]
  },
  {
   "cell_type": "code",
   "execution_count": 139,
   "id": "6792f2b6-99e8-4e98-a68f-b60d1bd52491",
   "metadata": {},
   "outputs": [
    {
     "name": "stdout",
     "output_type": "stream",
     "text": [
      "d\n"
     ]
    }
   ],
   "source": [
    "my_string=\"abcd\"\n",
    "print(max(my_string))"
   ]
  },
  {
   "cell_type": "code",
   "execution_count": 140,
   "id": "b712fe4a-33e3-4ea9-835a-43503514e601",
   "metadata": {},
   "outputs": [],
   "source": [
    "#3)min():this function return the minimum value from a sequence or collection .similar to max(),it can take multiple arguments or an iterable and returns the smallest elements.for example:\n"
   ]
  },
  {
   "cell_type": "code",
   "execution_count": 141,
   "id": "f35bb7d4-66f2-4188-8944-7accb0d58634",
   "metadata": {},
   "outputs": [
    {
     "name": "stdout",
     "output_type": "stream",
     "text": [
      "1\n"
     ]
    }
   ],
   "source": [
    "my_list=[1,2,3,4,5]\n",
    "print(min(my_list))"
   ]
  },
  {
   "cell_type": "code",
   "execution_count": 142,
   "id": "0dce3730-01a1-40d4-a844-b3935c24bf3a",
   "metadata": {},
   "outputs": [
    {
     "name": "stdout",
     "output_type": "stream",
     "text": [
      "a\n"
     ]
    }
   ],
   "source": [
    "my_string=\"abcd\"\n",
    "print(min(my_string))"
   ]
  },
  {
   "cell_type": "code",
   "execution_count": 143,
   "id": "f7a8d4f3-b0f6-4f15-95f1-305d479e3ad1",
   "metadata": {},
   "outputs": [
    {
     "name": "stdout",
     "output_type": "stream",
     "text": [
      "doubled list: [2, 4, 6, 8, 10]\n"
     ]
    }
   ],
   "source": [
    "#2)Write a Python program that uses the `map()` function to apply a function to each element of a list.\n",
    "def double(x):\n",
    "    return x*2\n",
    "numbers=[1,2,3,4,5]\n",
    "doubled_numbers=list(map(double,numbers))\n",
    "print(\"doubled list:\",doubled_numbers)"
   ]
  },
  {
   "cell_type": "code",
   "execution_count": 144,
   "id": "f850c2c6-cc1a-4476-862a-451c948cddd4",
   "metadata": {},
   "outputs": [],
   "source": [
    "#3)How does the `filter()` function work in Python, and when would you use it?\n",
    "# the filter()function in python is used to filter elements from an iterable (such as a list,tuple,or set)based on a specified function ,which servers as the filter condition .it returna an iterator containing the elements for which the function returns True.\n",
    "# the syntax for filter() is:\n",
    "#filter(function,iterable)"
   ]
  },
  {
   "cell_type": "code",
   "execution_count": 145,
   "id": "bb549543-93c6-4bdf-9d4e-3d809ec6c5ef",
   "metadata": {},
   "outputs": [
    {
     "name": "stdout",
     "output_type": "stream",
     "text": [
      "even numbers: [2, 4, 6, 8, 10]\n"
     ]
    }
   ],
   "source": [
    "# function: this is a function that takes a single argument and return True or False.this function will be applied to each element of the iterable.\n",
    "# iterable: this is the iterable (e.g ..,list ,tuple,set) from which the elements will be filtered .\n",
    "# here's an examlpe to illustrate how filter() works:\n",
    "def is_even(x):\n",
    "    return x%2==0\n",
    "numbers =[1,2,3,4,5,6,7,8,9,10]\n",
    "even_numbers=list(filter(is_even,numbers))\n",
    "print(\"even numbers:\",even_numbers)"
   ]
  },
  {
   "cell_type": "code",
   "execution_count": 146,
   "id": "98d87d76-5bf4-4120-8266-3a7991d325be",
   "metadata": {},
   "outputs": [
    {
     "name": "stdout",
     "output_type": "stream",
     "text": [
      "Even numbers: [2, 4, 6, 8, 10]\n"
     ]
    }
   ],
   "source": [
    "def is_even(x):\n",
    "    return x % 2 ==0\n",
    "numbers=[1,2,3,4,5,6,7,8,9,10]\n",
    "even_numbers=list(filter(is_even,numbers))\n",
    "print(\"Even numbers:\",even_numbers)"
   ]
  },
  {
   "cell_type": "code",
   "execution_count": 147,
   "id": "f54b9cc3-284c-4b74-98c0-f6bfaf10f873",
   "metadata": {},
   "outputs": [
    {
     "name": "stdout",
     "output_type": "stream",
     "text": [
      "product of all elements: 120\n"
     ]
    }
   ],
   "source": [
    "#4)Create a Python program that uses the `reduce()` function to find the product of all elements in a list.\n",
    "from functools import reduce\n",
    "def multiply(x,y):\n",
    "    return x*y\n",
    "numbers=[1,2,3,4,5]\n",
    "product=reduce(multiply,numbers)\n",
    "print(\"product of all elements:\",product)"
   ]
  },
  {
   "cell_type": "code",
   "execution_count": 148,
   "id": "1264f84b-865e-4312-9973-d511b49a9fe6",
   "metadata": {},
   "outputs": [],
   "source": [
    "#Function Documentation and Best Practices:\n",
    "#1)Explain the purpose of docstrings in Python functions and how to write them\n",
    "#.  docstrings in python functions serve the purpose of documenting the functionality ,usage ,and parameters of the function.\n",
    "#. they help other developers (including yourself in the future ) understand what the function does and how to use it without having to read through the actual code implemention .additioally,docstrings are often used by automated documentation tools to generate documentation for python projects.\n",
    "#. here's how to write docstrings in python functions:\n",
    "#1) Triple Quotes: docstrings are writen as strings enclosed in triple quotes(' \"\"\"  \"\"\"').\n"
   ]
  },
  {
   "cell_type": "code",
   "execution_count": 149,
   "id": "7394211f-dd70-4df4-b9ea-bc4f931cf311",
   "metadata": {},
   "outputs": [],
   "source": [
    "def calculate_area(radius):\n",
    "    \"\"\"\n",
    "    Calculate the area of a circle.\n",
    "\n",
    "    Parameters:\n",
    "    radius (float): The radius of the circle.\n",
    "\n",
    "    Returns:\n",
    "    float: The area of the circle.\n",
    "\n",
    "    Example:\n",
    "    >>> calculate_area(5)\n",
    "    78.53981633974483\n",
    "    \"\"\"\n",
    "    return 3.14159 * radius ** 2\n"
   ]
  },
  {
   "cell_type": "code",
   "execution_count": 150,
   "id": "e52673cc-c9b0-43e6-8c93-8d774b92e620",
   "metadata": {},
   "outputs": [],
   "source": [
    "#2)escribe some best practices for naming functions and variables in Python, including naming conventions and guidelines\n",
    "# naming functions and variables in python is crucial for writing readable ,maintainable ,and understandable code.adhering to naming conventions and guidelines ensures consistency across your codebase and makes it easier for other developers to understand your code.here are some best practices for naming functions and variables in python.\n",
    "#Use Descriptive Names: Choose names that accurately describe the purpose or functionality of the function or variable. A descriptive name makes it easier for others (and yourself) to understand what the code does without needing additional comments.\n",
    "#Use CamelCase for Function Names: Follow the CamelCase convention for naming functions, where each word in the name starts with a capital letter and there are no spaces between words. For example: calculateArea, getUserInfo.\n",
    "#Use lowercase with underscores for Variable Names: Use lowercase letters with underscores to separate words for variable names. This convention is known as snake_case. For example: radius, user_info.\n",
    "#Use Verbs for Function Names: Function names should typically start with a verb to indicate action or operation. For example: calculate, get, process, validate.\n"
   ]
  },
  {
   "cell_type": "code",
   "execution_count": null,
   "id": "1017c3ba-0a15-4c4a-9541-9860a8238a36",
   "metadata": {},
   "outputs": [],
   "source": []
  }
 ],
 "metadata": {
  "kernelspec": {
   "display_name": "Python 3 (ipykernel)",
   "language": "python",
   "name": "python3"
  },
  "language_info": {
   "codemirror_mode": {
    "name": "ipython",
    "version": 3
   },
   "file_extension": ".py",
   "mimetype": "text/x-python",
   "name": "python",
   "nbconvert_exporter": "python",
   "pygments_lexer": "ipython3",
   "version": "3.10.8"
  }
 },
 "nbformat": 4,
 "nbformat_minor": 5
}
